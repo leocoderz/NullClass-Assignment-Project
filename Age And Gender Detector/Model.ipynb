{
 "cells": [
  {
   "cell_type": "markdown",
   "metadata": {},
   "source": [
    "# Model Notebook"
   ]
  },
  {
   "cell_type": "markdown",
   "metadata": {},
   "source": [
    "NoteBook for our Age & Gender Detector. We will be extracting the data, train our model, fit it and then optimize is for better results."
   ]
  },
  {
   "cell_type": "markdown",
   "metadata": {},
   "source": [
    "## Import the necessary libraries"
   ]
  },
  {
   "cell_type": "code",
   "execution_count": 42,
   "metadata": {},
   "outputs": [],
   "source": [
    "import tensorflow as tf\n",
    "from cv2 import cv2\n",
    "import numpy as np\n",
    "from matplotlib import pyplot as plt\n",
    "from tensorflow.keras.layers import Dropout, Flatten, BatchNormalization\n",
    "from tensorflow.keras.layers import Dense, MaxPooling2D, Conv2D\n",
    "from tensorflow.keras.models import Model\n",
    "from tensorflow.keras.layers import Input, Activation, Add\n",
    "from tensorflow.keras.regularizers import l2\n",
    "from tensorflow.keras.optimizers import Adam, Adagrad, Adadelta, RMSprop"
   ]
  },
  {
   "cell_type": "markdown",
   "metadata": {},
   "source": [
    "## Extracting data from the dataset"
   ]
  },
  {
   "cell_type": "markdown",
   "metadata": {},
   "source": [
    "Download the datasets from [here](https://www.kaggle.com/datasets/jangedoo/utkface-new)"
   ]
  },
  {
   "cell_type": "code",
   "execution_count": 43,
   "metadata": {},
   "outputs": [],
   "source": [
    "filedr = \"./UTKFace\""
   ]
  },
  {
   "cell_type": "code",
   "execution_count": 44,
   "metadata": {},
   "outputs": [],
   "source": [
    "import os\n",
    "files = os.listdir(filedr)"
   ]
  },
  {
   "cell_type": "markdown",
   "metadata": {},
   "source": [
    "## Populating list of image from the dataset"
   ]
  },
  {
   "cell_type": "code",
   "execution_count": 45,
   "metadata": {},
   "outputs": [],
   "source": [
    "ages = []\n",
    "genders = []\n",
    "images = []\n",
    "\n",
    "for fl in files:\n",
    "    age = int(fl.split('_')[0])\n",
    "    gender = int(fl.split('_')[1])\n",
    "    filename = filedr + '/' + fl\n",
    "    #print(filename)\n",
    "\n",
    "    image = cv2.imread(filename)\n",
    "    image = cv2.cvtColor(image, cv2.COLOR_BGR2RGB)\n",
    "    image = cv2.resize(image, (48, 48))\n",
    "    images.append(image)"
   ]
  },
  {
   "cell_type": "markdown",
   "metadata": {},
   "source": [
    "## Populating list of Age and Gender from the dataset"
   ]
  },
  {
   "cell_type": "code",
   "execution_count": 46,
   "metadata": {},
   "outputs": [],
   "source": [
    "for fl in files:\n",
    "    age = int(fl.split('_')[0])\n",
    "    gender = int(fl.split('_')[1])\n",
    "    \n",
    "    ages.append(age)\n",
    "    genders.append(gender)"
   ]
  },
  {
   "cell_type": "markdown",
   "metadata": {},
   "source": [
    "## Viewing a sample from our imported dataset"
   ]
  },
  {
   "cell_type": "code",
   "execution_count": 47,
   "metadata": {},
   "outputs": [
    {
     "data": {
      "text/plain": [
       "<matplotlib.image.AxesImage at 0x1721e23e5e0>"
      ]
     },
     "execution_count": 47,
     "metadata": {},
     "output_type": "execute_result"
    },
    {
     "data": {
      "image/png": "[encoded data removed]",
      "text/plain": [
       "<Figure size 432x288 with 1 Axes>"
      ]
     },
     "metadata": {
      "needs_background": "light"
     },
     "output_type": "display_data"
    }
   ],
   "source": [
    "plt.imshow(images[88])"
   ]
  },
  {
   "cell_type": "code",
   "execution_count": 48,
   "metadata": {},
   "outputs": [
    {
     "name": "stdout",
     "output_type": "stream",
     "text": [
      "Age: 10, Gender: 0\n"
     ]
    }
   ],
   "source": [
    "print(\"Age: {}, Gender: {}\".format(ages[88], genders[88]))"
   ]
  },
  {
   "cell_type": "markdown",
   "metadata": {},
   "source": [
    "## Saving ages array, genders array and images array in the system"
   ]
  },
  {
   "cell_type": "code",
   "execution_count": 49,
   "metadata": {},
   "outputs": [],
   "source": [
    "ages_f = np.array(ages)\n",
    "genders_f = np.array(genders)\n",
    "images_f = np.array(images)"
   ]
  },
  {
   "cell_type": "code",
   "execution_count": 50,
   "metadata": {},
   "outputs": [],
   "source": [
    "np.save(filedr + \"image.npy\", images_f)\n",
    "np.save(filedr + \"gender.npy\", genders_f)\n",
    "np.save(filedr + \"age.npy\", ages_f)"
   ]
  },
  {
   "cell_type": "markdown",
   "metadata": {},
   "source": [
    "## Counting the number of males and females samples respectively"
   ]
  },
  {
   "cell_type": "code",
   "execution_count": 51,
   "metadata": {},
   "outputs": [
    {
     "name": "stdout",
     "output_type": "stream",
     "text": [
      "[12391 11317]\n"
     ]
    }
   ],
   "source": [
    "values, counts = np.unique(genders_f, return_counts = True)\n",
    "print(counts)"
   ]
  },
  {
   "cell_type": "markdown",
   "metadata": {},
   "source": [
    "## Plotting the number of Male and Female samples"
   ]
  },
  {
   "cell_type": "code",
   "execution_count": 52,
   "metadata": {},
   "outputs": [
    {
     "data": {
      "image/png": "[encoded data removed]",
      "text/plain": [
       "<Figure size 432x288 with 1 Axes>"
      ]
     },
     "metadata": {
      "needs_background": "light"
     },
     "output_type": "display_data"
    }
   ],
   "source": [
    "fig = plt.figure()\n",
    "ax = fig.add_axes([0, 0, 1, 1])\n",
    "gender = [\"Male\", \"Female\"]\n",
    "values = counts\n",
    "ax.bar(gender, values)\n",
    "plt.show()"
   ]
  },
  {
   "cell_type": "markdown",
   "metadata": {},
   "source": [
    "## Counting the number of samples for each age"
   ]
  },
  {
   "cell_type": "code",
   "execution_count": 53,
   "metadata": {},
   "outputs": [
    {
     "name": "stdout",
     "output_type": "stream",
     "text": [
      "[1123  482  289  273  196  131  139  263  166  156   65  130   81  157\n",
      "  177  247  158  262   98  284  346  395  426  859  734 2197  615  918\n",
      "  570  724  350  664  143  409  880  483  293  325  266  526  132  266\n",
      "  157  100  440  153  170  153  148  381  138  232  241  353  268  236\n",
      "   97  271   82  293  161  125  103   50  259   77   94  100   56  147\n",
      "   33   98   63   32  148   58   28   69   23  133   22   40   18   24\n",
      "  155   35   10   34   33   82    2   13    5    9   17    9   11    2\n",
      "    1    5    5    1    3    4]\n"
     ]
    }
   ],
   "source": [
    "values, counts = np.unique(ages_f, return_counts = True)\n",
    "print(counts)"
   ]
  },
  {
   "cell_type": "markdown",
   "metadata": {},
   "source": [
    "## Converting Age counts to list"
   ]
  },
  {
   "cell_type": "code",
   "execution_count": 54,
   "metadata": {},
   "outputs": [],
   "source": [
    "val = values.tolist()\n",
    "cnt = counts.tolist()"
   ]
  },
  {
   "cell_type": "markdown",
   "metadata": {},
   "source": [
    "## Plotting the samples Agewise"
   ]
  },
  {
   "cell_type": "code",
   "execution_count": 55,
   "metadata": {},
   "outputs": [
    {
     "data": {
      "image/png": "[encoded data removed]",
      "text/plain": [
       "<Figure size 432x288 with 1 Axes>"
      ]
     },
     "metadata": {
      "needs_background": "light"
     },
     "output_type": "display_data"
    }
   ],
   "source": [
    "plt.plot(counts)\n",
    "plt.xlabel('Ages')\n",
    "plt.ylabel('Frequency')\n",
    "plt.show()"
   ]
  },
  {
   "cell_type": "markdown",
   "metadata": {},
   "source": [
    "## Defining Labels for output"
   ]
  },
  {
   "cell_type": "code",
   "execution_count": 56,
   "metadata": {},
   "outputs": [],
   "source": [
    "labels = []\n",
    "i = 0\n",
    "while i < len(ages):\n",
    "    label = []\n",
    "    label.append(ages[i])\n",
    "    label.append(genders[i])\n",
    "\n",
    "    labels.append(label)\n",
    "    i = i + 1"
   ]
  },
  {
   "cell_type": "markdown",
   "metadata": {},
   "source": [
    "## Creating simplified image list for better learning of our model"
   ]
  },
  {
   "cell_type": "code",
   "execution_count": 57,
   "metadata": {},
   "outputs": [
    {
     "data": {
      "text/plain": [
       "(23708, 48, 48, 3)"
      ]
     },
     "execution_count": 57,
     "metadata": {},
     "output_type": "execute_result"
    }
   ],
   "source": [
    "images_f_2 = images_f/255\n",
    "images_f_2.shape"
   ]
  },
  {
   "cell_type": "code",
   "execution_count": 58,
   "metadata": {},
   "outputs": [],
   "source": [
    "labels_f = np.array(labels)"
   ]
  },
  {
   "cell_type": "markdown",
   "metadata": {},
   "source": [
    "## Splitting dataset into train and test"
   ]
  },
  {
   "cell_type": "code",
   "execution_count": 59,
   "metadata": {},
   "outputs": [],
   "source": [
    "from sklearn.model_selection import train_test_split"
   ]
  },
  {
   "cell_type": "code",
   "execution_count": 60,
   "metadata": {},
   "outputs": [],
   "source": [
    "X_train, X_test, Y_train, Y_test = train_test_split(images_f_2, labels_f, test_size=0.25)"
   ]
  },
  {
   "cell_type": "code",
   "execution_count": 61,
   "metadata": {},
   "outputs": [
    {
     "data": {
      "text/plain": [
       "array([[51,  1],\n",
       "       [37,  1],\n",
       "       [68,  0],\n",
       "       [ 4,  0],\n",
       "       [22,  1],\n",
       "       [57,  1]])"
      ]
     },
     "execution_count": 61,
     "metadata": {},
     "output_type": "execute_result"
    }
   ],
   "source": [
    "Y_train[0:6]"
   ]
  },
  {
   "cell_type": "markdown",
   "metadata": {},
   "source": [
    "## Splitting the 'Y_train' & 'Y_test' further for better analysis"
   ]
  },
  {
   "cell_type": "code",
   "execution_count": 62,
   "metadata": {},
   "outputs": [],
   "source": [
    "Y_train_2 = [Y_train[:, 1], Y_train[:, 0]]\n",
    "Y_test_2 = [Y_test[:, 1], Y_test[:, 0]]"
   ]
  },
  {
   "cell_type": "code",
   "execution_count": 63,
   "metadata": {},
   "outputs": [
    {
     "data": {
      "text/plain": [
       "array([1, 1, 0, 0, 1, 1])"
      ]
     },
     "execution_count": 63,
     "metadata": {},
     "output_type": "execute_result"
    }
   ],
   "source": [
    "Y_train_2[0][0:6]"
   ]
  },
  {
   "cell_type": "code",
   "execution_count": 64,
   "metadata": {},
   "outputs": [
    {
     "data": {
      "text/plain": [
       "array([51, 37, 68,  4, 22, 57])"
      ]
     },
     "execution_count": 64,
     "metadata": {},
     "output_type": "execute_result"
    }
   ],
   "source": [
    "Y_train_2[1][0:6]"
   ]
  },
  {
   "cell_type": "markdown",
   "metadata": {},
   "source": [
    "## Defining the model"
   ]
  },
  {
   "cell_type": "code",
   "execution_count": 65,
   "metadata": {},
   "outputs": [],
   "source": [
    "def Convolution(input_tensor, filters):\n",
    "    x = Conv2D(filters = filters, kernel_size = (3, 3), padding = \"same\", strides = (1, 1), kernel_regularizer = l2(0.001))(input_tensor)\n",
    "    x = Dropout(0.1)(x)\n",
    "    x = Activation('relu')(x)\n",
    "\n",
    "    return x"
   ]
  },
  {
   "cell_type": "code",
   "execution_count": 66,
   "metadata": {},
   "outputs": [],
   "source": [
    "def model(input_shape):\n",
    "    inputs = Input((input_shape))\n",
    "\n",
    "    ## Convolutional Layers & MaxPool Layers\n",
    "    conv_1 = Convolution(inputs, 32)\n",
    "    maxp_1 = MaxPooling2D(pool_size = (2, 2))(conv_1)\n",
    "    conv_2 = Convolution(maxp_1, 64)\n",
    "    maxp_2 = MaxPooling2D(pool_size = (2, 2))(conv_2)\n",
    "    conv_3 = Convolution(maxp_2, 128)\n",
    "    maxp_3 = MaxPooling2D(pool_size = (2, 2))(conv_3)\n",
    "    conv_4 = Convolution(maxp_3, 256)\n",
    "    maxp_4 = MaxPooling2D(pool_size = (2, 2))(conv_4)\n",
    "\n",
    "    ## 3D matrix into 1D vector\n",
    "    flatten = Flatten()(maxp_4)\n",
    "\n",
    "    dense_1 = Dense(64, activation = 'relu')(flatten)\n",
    "    dense_2 = Dense(64, activation = 'relu')(flatten)\n",
    "\n",
    "    drop_1 = Dropout(0.2)(dense_1)\n",
    "    drop_2 = Dropout(0.2)(dense_2)\n",
    "\n",
    "    output_1 = Dense(1, activation = 'sigmoid', name = 'sex-out')(drop_1)\n",
    "    output_2 = Dense(1, activation = 'relu', name = 'age-out')(drop_2)\n",
    "\n",
    "    model = Model(inputs = [inputs], outputs = [output_1, output_2])\n",
    "    model.compile(loss = [\"binary_crossentropy\", \"mae\"], optimizer = \"Adam\", metrics = [\"accuracy\"])\n",
    "\n",
    "    return model"
   ]
  },
  {
   "cell_type": "code",
   "execution_count": 67,
   "metadata": {},
   "outputs": [],
   "source": [
    "Model = model((48, 48, 3))"
   ]
  },
  {
   "cell_type": "code",
   "execution_count": 68,
   "metadata": {},
   "outputs": [
    {
     "name": "stdout",
     "output_type": "stream",
     "text": [
      "Model: \"model_1\"\n",
      "__________________________________________________________________________________________________\n",
      " Layer (type)                   Output Shape         Param #     Connected to                     \n",
      "==================================================================================================\n",
      " input_6 (InputLayer)           [(None, 48, 48, 3)]  0           []                               \n",
      "                                                                                                  \n",
      " conv2d_20 (Conv2D)             (None, 48, 48, 32)   896         ['input_6[0][0]']                \n",
      "                                                                                                  \n",
      " dropout_30 (Dropout)           (None, 48, 48, 32)   0           ['conv2d_20[0][0]']              \n",
      "                                                                                                  \n",
      " activation_20 (Activation)     (None, 48, 48, 32)   0           ['dropout_30[0][0]']             \n",
      "                                                                                                  \n",
      " max_pooling2d_20 (MaxPooling2D  (None, 24, 24, 32)  0           ['activation_20[0][0]']          \n",
      " )                                                                                                \n",
      "                                                                                                  \n",
      " conv2d_21 (Conv2D)             (None, 24, 24, 64)   18496       ['max_pooling2d_20[0][0]']       \n",
      "                                                                                                  \n",
      " dropout_31 (Dropout)           (None, 24, 24, 64)   0           ['conv2d_21[0][0]']              \n",
      "                                                                                                  \n",
      " activation_21 (Activation)     (None, 24, 24, 64)   0           ['dropout_31[0][0]']             \n",
      "                                                                                                  \n",
      " max_pooling2d_21 (MaxPooling2D  (None, 12, 12, 64)  0           ['activation_21[0][0]']          \n",
      " )                                                                                                \n",
      "                                                                                                  \n",
      " conv2d_22 (Conv2D)             (None, 12, 12, 128)  73856       ['max_pooling2d_21[0][0]']       \n",
      "                                                                                                  \n",
      " dropout_32 (Dropout)           (None, 12, 12, 128)  0           ['conv2d_22[0][0]']              \n",
      "                                                                                                  \n",
      " activation_22 (Activation)     (None, 12, 12, 128)  0           ['dropout_32[0][0]']             \n",
      "                                                                                                  \n",
      " max_pooling2d_22 (MaxPooling2D  (None, 6, 6, 128)   0           ['activation_22[0][0]']          \n",
      " )                                                                                                \n",
      "                                                                                                  \n",
      " conv2d_23 (Conv2D)             (None, 6, 6, 256)    295168      ['max_pooling2d_22[0][0]']       \n",
      "                                                                                                  \n",
      " dropout_33 (Dropout)           (None, 6, 6, 256)    0           ['conv2d_23[0][0]']              \n",
      "                                                                                                  \n",
      " activation_23 (Activation)     (None, 6, 6, 256)    0           ['dropout_33[0][0]']             \n",
      "                                                                                                  \n",
      " max_pooling2d_23 (MaxPooling2D  (None, 3, 3, 256)   0           ['activation_23[0][0]']          \n",
      " )                                                                                                \n",
      "                                                                                                  \n",
      " flatten_5 (Flatten)            (None, 2304)         0           ['max_pooling2d_23[0][0]']       \n",
      "                                                                                                  \n",
      " dense_10 (Dense)               (None, 64)           147520      ['flatten_5[0][0]']              \n",
      "                                                                                                  \n",
      " dense_11 (Dense)               (None, 64)           147520      ['flatten_5[0][0]']              \n",
      "                                                                                                  \n",
      " dropout_34 (Dropout)           (None, 64)           0           ['dense_10[0][0]']               \n",
      "                                                                                                  \n",
      " dropout_35 (Dropout)           (None, 64)           0           ['dense_11[0][0]']               \n",
      "                                                                                                  \n",
      " sex-out (Dense)                (None, 1)            65          ['dropout_34[0][0]']             \n",
      "                                                                                                  \n",
      " age-out (Dense)                (None, 1)            65          ['dropout_35[0][0]']             \n",
      "                                                                                                  \n",
      "==================================================================================================\n",
      "Total params: 683,586\n",
      "Trainable params: 683,586\n",
      "Non-trainable params: 0\n",
      "__________________________________________________________________________________________________\n"
     ]
    }
   ],
   "source": [
    "Model.summary()"
   ]
  },
  {
   "cell_type": "code",
   "execution_count": 69,
   "metadata": {},
   "outputs": [],
   "source": [
    "from tensorflow.keras.callbacks import ModelCheckpoint"
   ]
  },
  {
   "cell_type": "markdown",
   "metadata": {},
   "source": [
    "## Initializing the Model"
   ]
  },
  {
   "cell_type": "code",
   "execution_count": 72,
   "metadata": {},
   "outputs": [],
   "source": [
    "file_s = \"Age_Sex_Detector.h5\"\n",
    "checkpoint = ModelCheckpoint(file_s, monitor='val_loss', verbose=1, save_best_only=True, save_weights_only=False, mode='auto', save_freq='epoch')\n",
    "Early_stop = tf.keras.callbacks.EarlyStopping(patience = 75, monitor = 'val_loss', restore_best_weights = 'True')\n",
    "callback_list = [checkpoint, Early_stop]"
   ]
  },
  {
   "cell_type": "markdown",
   "metadata": {},
   "source": [
    "## Running the Model\n",
    "### Time taking process"
   ]
  },
  {
   "cell_type": "code",
   "execution_count": 73,
   "metadata": {},
   "outputs": [
    {
     "name": "stdout",
     "output_type": "stream",
     "text": [
      "Epoch 1/250\n",
      "278/278 [==============================] - ETA: 0s - loss: 16.9731 - sex-out_loss: 0.6869 - age-out_loss: 16.1194 - sex-out_accuracy: 0.5607 - age-out_accuracy: 0.0488\n",
      "Epoch 1: val_loss improved from inf to 16.74296, saving model to Age_Sex_Detector.h5\n",
      "278/278 [==============================] - 625s 2s/step - loss: 16.9731 - sex-out_loss: 0.6869 - age-out_loss: 16.1194 - sex-out_accuracy: 0.5607 - age-out_accuracy: 0.0488 - val_loss: 16.7430 - val_sex-out_loss: 0.6541 - val_age-out_loss: 15.9332 - val_sex-out_accuracy: 0.6349 - val_age-out_accuracy: 0.0430\n",
      "Epoch 2/250\n",
      "278/278 [==============================] - ETA: 0s - loss: 13.4215 - sex-out_loss: 0.5938 - age-out_loss: 12.6305 - sex-out_accuracy: 0.6864 - age-out_accuracy: 0.0485\n",
      "Epoch 2: val_loss improved from 16.74296 to 14.06542, saving model to Age_Sex_Detector.h5\n",
      "278/278 [==============================] - 571s 2s/step - loss: 13.4215 - sex-out_loss: 0.5938 - age-out_loss: 12.6305 - sex-out_accuracy: 0.6864 - age-out_accuracy: 0.0485 - val_loss: 14.0654 - val_sex-out_loss: 0.5537 - val_age-out_loss: 13.2800 - val_sex-out_accuracy: 0.7380 - val_age-out_accuracy: 0.0429\n",
      "Epoch 3/250\n",
      "278/278 [==============================] - ETA: 0s - loss: 11.4678 - sex-out_loss: 0.5369 - age-out_loss: 10.6747 - sex-out_accuracy: 0.7316 - age-out_accuracy: 0.0454\n",
      "Epoch 3: val_loss improved from 14.06542 to 13.48443, saving model to Age_Sex_Detector.h5\n",
      "278/278 [==============================] - 543s 2s/step - loss: 11.4678 - sex-out_loss: 0.5369 - age-out_loss: 10.6747 - sex-out_accuracy: 0.7316 - age-out_accuracy: 0.0454 - val_loss: 13.4844 - val_sex-out_loss: 0.5065 - val_age-out_loss: 12.7001 - val_sex-out_accuracy: 0.7678 - val_age-out_accuracy: 0.0417\n",
      "Epoch 4/250\n",
      "278/278 [==============================] - ETA: 0s - loss: 10.5637 - sex-out_loss: 0.4838 - age-out_loss: 9.7849 - sex-out_accuracy: 0.7651 - age-out_accuracy: 0.0457\n",
      "Epoch 4: val_loss improved from 13.48443 to 11.90471, saving model to Age_Sex_Detector.h5\n",
      "278/278 [==============================] - 461s 2s/step - loss: 10.5637 - sex-out_loss: 0.4838 - age-out_loss: 9.7849 - sex-out_accuracy: 0.7651 - age-out_accuracy: 0.0457 - val_loss: 11.9047 - val_sex-out_loss: 0.4515 - val_age-out_loss: 11.1443 - val_sex-out_accuracy: 0.7884 - val_age-out_accuracy: 0.0429\n",
      "Epoch 5/250\n",
      "278/278 [==============================] - ETA: 0s - loss: 9.9482 - sex-out_loss: 0.4450 - age-out_loss: 9.1830 - sex-out_accuracy: 0.7883 - age-out_accuracy: 0.0456\n",
      "Epoch 5: val_loss improved from 11.90471 to 10.13569, saving model to Age_Sex_Detector.h5\n",
      "278/278 [==============================] - 464s 2s/step - loss: 9.9482 - sex-out_loss: 0.4450 - age-out_loss: 9.1830 - sex-out_accuracy: 0.7883 - age-out_accuracy: 0.0456 - val_loss: 10.1357 - val_sex-out_loss: 0.4150 - val_age-out_loss: 9.3883 - val_sex-out_accuracy: 0.8107 - val_age-out_accuracy: 0.0429\n",
      "Epoch 6/250\n",
      "278/278 [==============================] - ETA: 0s - loss: 9.6693 - sex-out_loss: 0.4227 - age-out_loss: 8.9042 - sex-out_accuracy: 0.8030 - age-out_accuracy: 0.0461\n",
      "Epoch 6: val_loss did not improve from 10.13569\n",
      "278/278 [==============================] - 462s 2s/step - loss: 9.6693 - sex-out_loss: 0.4227 - age-out_loss: 8.9042 - sex-out_accuracy: 0.8030 - age-out_accuracy: 0.0461 - val_loss: 12.9560 - val_sex-out_loss: 0.4000 - val_age-out_loss: 12.2015 - val_sex-out_accuracy: 0.8230 - val_age-out_accuracy: 0.0368\n",
      "Epoch 7/250\n",
      "278/278 [==============================] - ETA: 0s - loss: 9.2439 - sex-out_loss: 0.3919 - age-out_loss: 8.4882 - sex-out_accuracy: 0.8201 - age-out_accuracy: 0.0463\n",
      "Epoch 7: val_loss did not improve from 10.13569\n",
      "278/278 [==============================] - 444s 2s/step - loss: 9.2439 - sex-out_loss: 0.3919 - age-out_loss: 8.4882 - sex-out_accuracy: 0.8201 - age-out_accuracy: 0.0463 - val_loss: 13.6706 - val_sex-out_loss: 0.3819 - val_age-out_loss: 12.9154 - val_sex-out_accuracy: 0.8325 - val_age-out_accuracy: 0.0408\n",
      "Epoch 8/250\n",
      "278/278 [==============================] - ETA: 0s - loss: 8.9629 - sex-out_loss: 0.3777 - age-out_loss: 8.2013 - sex-out_accuracy: 0.8264 - age-out_accuracy: 0.0469\n",
      "Epoch 8: val_loss did not improve from 10.13569\n",
      "278/278 [==============================] - 459s 2s/step - loss: 8.9629 - sex-out_loss: 0.3777 - age-out_loss: 8.2013 - sex-out_accuracy: 0.8264 - age-out_accuracy: 0.0469 - val_loss: 10.8430 - val_sex-out_loss: 0.3519 - val_age-out_loss: 10.1010 - val_sex-out_accuracy: 0.8370 - val_age-out_accuracy: 0.0343\n",
      "Epoch 9/250\n",
      "278/278 [==============================] - ETA: 0s - loss: 8.7099 - sex-out_loss: 0.3543 - age-out_loss: 7.9557 - sex-out_accuracy: 0.8383 - age-out_accuracy: 0.0461\n",
      "Epoch 9: val_loss improved from 10.13569 to 10.12396, saving model to Age_Sex_Detector.h5\n",
      "278/278 [==============================] - 762s 3s/step - loss: 8.7099 - sex-out_loss: 0.3543 - age-out_loss: 7.9557 - sex-out_accuracy: 0.8383 - age-out_accuracy: 0.0461 - val_loss: 10.1240 - val_sex-out_loss: 0.3413 - val_age-out_loss: 9.3752 - val_sex-out_accuracy: 0.8487 - val_age-out_accuracy: 0.0430\n",
      "Epoch 10/250\n",
      "278/278 [==============================] - ETA: 0s - loss: 8.6590 - sex-out_loss: 0.3415 - age-out_loss: 7.9012 - sex-out_accuracy: 0.8485 - age-out_accuracy: 0.0479\n",
      "Epoch 10: val_loss improved from 10.12396 to 9.64489, saving model to Age_Sex_Detector.h5\n",
      "278/278 [==============================] - 641s 2s/step - loss: 8.6590 - sex-out_loss: 0.3415 - age-out_loss: 7.9012 - sex-out_accuracy: 0.8485 - age-out_accuracy: 0.0479 - val_loss: 9.6449 - val_sex-out_loss: 0.3202 - val_age-out_loss: 8.8985 - val_sex-out_accuracy: 0.8552 - val_age-out_accuracy: 0.0430\n",
      "Epoch 11/250\n",
      "278/278 [==============================] - ETA: 0s - loss: 8.3865 - sex-out_loss: 0.3334 - age-out_loss: 7.6202 - sex-out_accuracy: 0.8507 - age-out_accuracy: 0.0488\n",
      "Epoch 11: val_loss improved from 9.64489 to 8.67431, saving model to Age_Sex_Detector.h5\n",
      "278/278 [==============================] - 681s 2s/step - loss: 8.3865 - sex-out_loss: 0.3334 - age-out_loss: 7.6202 - sex-out_accuracy: 0.8507 - age-out_accuracy: 0.0488 - val_loss: 8.6743 - val_sex-out_loss: 0.3137 - val_age-out_loss: 7.9214 - val_sex-out_accuracy: 0.8613 - val_age-out_accuracy: 0.0430\n",
      "Epoch 12/250\n",
      "278/278 [==============================] - ETA: 0s - loss: 8.2853 - sex-out_loss: 0.3199 - age-out_loss: 7.5205 - sex-out_accuracy: 0.8603 - age-out_accuracy: 0.0488\n",
      "Epoch 12: val_loss did not improve from 8.67431\n",
      "278/278 [==============================] - 757s 3s/step - loss: 8.2853 - sex-out_loss: 0.3199 - age-out_loss: 7.5205 - sex-out_accuracy: 0.8603 - age-out_accuracy: 0.0488 - val_loss: 10.6203 - val_sex-out_loss: 0.3211 - val_age-out_loss: 9.8485 - val_sex-out_accuracy: 0.8583 - val_age-out_accuracy: 0.0430\n",
      "Epoch 13/250\n",
      "278/278 [==============================] - ETA: 0s - loss: 8.0770 - sex-out_loss: 0.3131 - age-out_loss: 7.3069 - sex-out_accuracy: 0.8597 - age-out_accuracy: 0.0488\n",
      "Epoch 13: val_loss did not improve from 8.67431\n",
      "278/278 [==============================] - 715s 3s/step - loss: 8.0770 - sex-out_loss: 0.3131 - age-out_loss: 7.3069 - sex-out_accuracy: 0.8597 - age-out_accuracy: 0.0488 - val_loss: 10.3564 - val_sex-out_loss: 0.3186 - val_age-out_loss: 9.5739 - val_sex-out_accuracy: 0.8600 - val_age-out_accuracy: 0.0430\n",
      "Epoch 14/250\n",
      "278/278 [==============================] - ETA: 0s - loss: 8.0483 - sex-out_loss: 0.3004 - age-out_loss: 7.2769 - sex-out_accuracy: 0.8695 - age-out_accuracy: 0.0488\n",
      "Epoch 14: val_loss did not improve from 8.67431\n",
      "278/278 [==============================] - 653s 2s/step - loss: 8.0483 - sex-out_loss: 0.3004 - age-out_loss: 7.2769 - sex-out_accuracy: 0.8695 - age-out_accuracy: 0.0488 - val_loss: 11.8082 - val_sex-out_loss: 0.2949 - val_age-out_loss: 11.0349 - val_sex-out_accuracy: 0.8709 - val_age-out_accuracy: 0.0430\n",
      "Epoch 15/250\n",
      "278/278 [==============================] - ETA: 0s - loss: 7.8338 - sex-out_loss: 0.2924 - age-out_loss: 7.0556 - sex-out_accuracy: 0.8729 - age-out_accuracy: 0.0488\n",
      "Epoch 15: val_loss did not improve from 8.67431\n",
      "278/278 [==============================] - 529s 2s/step - loss: 7.8338 - sex-out_loss: 0.2924 - age-out_loss: 7.0556 - sex-out_accuracy: 0.8729 - age-out_accuracy: 0.0488 - val_loss: 9.2009 - val_sex-out_loss: 0.2908 - val_age-out_loss: 8.4184 - val_sex-out_accuracy: 0.8728 - val_age-out_accuracy: 0.0430\n",
      "Epoch 16/250\n",
      "278/278 [==============================] - ETA: 0s - loss: 7.8065 - sex-out_loss: 0.2898 - age-out_loss: 7.0173 - sex-out_accuracy: 0.8729 - age-out_accuracy: 0.0488\n",
      "Epoch 16: val_loss improved from 8.67431 to 8.65172, saving model to Age_Sex_Detector.h5\n",
      "278/278 [==============================] - 559s 2s/step - loss: 7.8065 - sex-out_loss: 0.2898 - age-out_loss: 7.0173 - sex-out_accuracy: 0.8729 - age-out_accuracy: 0.0488 - val_loss: 8.6517 - val_sex-out_loss: 0.2815 - val_age-out_loss: 7.8626 - val_sex-out_accuracy: 0.8736 - val_age-out_accuracy: 0.0430\n",
      "Epoch 17/250\n",
      "278/278 [==============================] - ETA: 0s - loss: 7.7239 - sex-out_loss: 0.2828 - age-out_loss: 6.9276 - sex-out_accuracy: 0.8786 - age-out_accuracy: 0.0488\n",
      "Epoch 17: val_loss did not improve from 8.65172\n",
      "278/278 [==============================] - 695s 3s/step - loss: 7.7239 - sex-out_loss: 0.2828 - age-out_loss: 6.9276 - sex-out_accuracy: 0.8786 - age-out_accuracy: 0.0488 - val_loss: 10.1307 - val_sex-out_loss: 0.2748 - val_age-out_loss: 9.3361 - val_sex-out_accuracy: 0.8782 - val_age-out_accuracy: 0.0430\n",
      "Epoch 18/250\n",
      "278/278 [==============================] - ETA: 0s - loss: 7.6386 - sex-out_loss: 0.2805 - age-out_loss: 6.8311 - sex-out_accuracy: 0.8806 - age-out_accuracy: 0.0488\n",
      "Epoch 18: val_loss improved from 8.65172 to 7.84671, saving model to Age_Sex_Detector.h5\n",
      "278/278 [==============================] - 613s 2s/step - loss: 7.6386 - sex-out_loss: 0.2805 - age-out_loss: 6.8311 - sex-out_accuracy: 0.8806 - age-out_accuracy: 0.0488 - val_loss: 7.8467 - val_sex-out_loss: 0.2694 - val_age-out_loss: 7.0448 - val_sex-out_accuracy: 0.8826 - val_age-out_accuracy: 0.0430\n",
      "Epoch 19/250\n",
      "278/278 [==============================] - ETA: 0s - loss: 7.5291 - sex-out_loss: 0.2759 - age-out_loss: 6.7132 - sex-out_accuracy: 0.8805 - age-out_accuracy: 0.0488\n",
      "Epoch 19: val_loss did not improve from 7.84671\n",
      "278/278 [==============================] - 573s 2s/step - loss: 7.5291 - sex-out_loss: 0.2759 - age-out_loss: 6.7132 - sex-out_accuracy: 0.8805 - age-out_accuracy: 0.0488 - val_loss: 9.6072 - val_sex-out_loss: 0.2838 - val_age-out_loss: 8.7768 - val_sex-out_accuracy: 0.8797 - val_age-out_accuracy: 0.0430\n",
      "Epoch 20/250\n",
      "278/278 [==============================] - ETA: 0s - loss: 7.4055 - sex-out_loss: 0.2695 - age-out_loss: 6.5827 - sex-out_accuracy: 0.8847 - age-out_accuracy: 0.0488\n",
      "Epoch 20: val_loss did not improve from 7.84671\n",
      "278/278 [==============================] - 518s 2s/step - loss: 7.4055 - sex-out_loss: 0.2695 - age-out_loss: 6.5827 - sex-out_accuracy: 0.8847 - age-out_accuracy: 0.0488 - val_loss: 10.9284 - val_sex-out_loss: 0.2655 - val_age-out_loss: 10.1021 - val_sex-out_accuracy: 0.8871 - val_age-out_accuracy: 0.0430\n",
      "Epoch 21/250\n",
      "278/278 [==============================] - ETA: 0s - loss: 7.3686 - sex-out_loss: 0.2757 - age-out_loss: 6.5258 - sex-out_accuracy: 0.8802 - age-out_accuracy: 0.0488\n",
      "Epoch 21: val_loss did not improve from 7.84671\n",
      "278/278 [==============================] - 569s 2s/step - loss: 7.3686 - sex-out_loss: 0.2757 - age-out_loss: 6.5258 - sex-out_accuracy: 0.8802 - age-out_accuracy: 0.0488 - val_loss: 8.6478 - val_sex-out_loss: 0.2680 - val_age-out_loss: 7.8057 - val_sex-out_accuracy: 0.8814 - val_age-out_accuracy: 0.0430\n",
      "Epoch 22/250\n",
      "278/278 [==============================] - ETA: 0s - loss: 7.3875 - sex-out_loss: 0.2619 - age-out_loss: 6.5458 - sex-out_accuracy: 0.8907 - age-out_accuracy: 0.0488\n",
      "Epoch 22: val_loss did not improve from 7.84671\n",
      "278/278 [==============================] - 551s 2s/step - loss: 7.3875 - sex-out_loss: 0.2619 - age-out_loss: 6.5458 - sex-out_accuracy: 0.8907 - age-out_accuracy: 0.0488 - val_loss: 9.5343 - val_sex-out_loss: 0.2969 - val_age-out_loss: 8.6508 - val_sex-out_accuracy: 0.8662 - val_age-out_accuracy: 0.0430\n",
      "Epoch 23/250\n",
      "278/278 [==============================] - ETA: 0s - loss: 7.2480 - sex-out_loss: 0.2610 - age-out_loss: 6.3958 - sex-out_accuracy: 0.8883 - age-out_accuracy: 0.0488\n",
      "Epoch 23: val_loss did not improve from 7.84671\n",
      "278/278 [==============================] - 547s 2s/step - loss: 7.2480 - sex-out_loss: 0.2610 - age-out_loss: 6.3958 - sex-out_accuracy: 0.8883 - age-out_accuracy: 0.0488 - val_loss: 10.8244 - val_sex-out_loss: 0.2782 - val_age-out_loss: 9.9498 - val_sex-out_accuracy: 0.8770 - val_age-out_accuracy: 0.0430\n",
      "Epoch 24/250\n",
      "278/278 [==============================] - ETA: 0s - loss: 7.2820 - sex-out_loss: 0.2569 - age-out_loss: 6.4222 - sex-out_accuracy: 0.8917 - age-out_accuracy: 0.0488\n",
      "Epoch 24: val_loss did not improve from 7.84671\n",
      "278/278 [==============================] - 512s 2s/step - loss: 7.2820 - sex-out_loss: 0.2569 - age-out_loss: 6.4222 - sex-out_accuracy: 0.8917 - age-out_accuracy: 0.0488 - val_loss: 9.7026 - val_sex-out_loss: 0.2637 - val_age-out_loss: 8.8305 - val_sex-out_accuracy: 0.8826 - val_age-out_accuracy: 0.0430\n",
      "Epoch 25/250\n",
      "278/278 [==============================] - ETA: 0s - loss: 7.1571 - sex-out_loss: 0.2555 - age-out_loss: 6.2870 - sex-out_accuracy: 0.8935 - age-out_accuracy: 0.0488\n",
      "Epoch 25: val_loss did not improve from 7.84671\n",
      "278/278 [==============================] - 447s 2s/step - loss: 7.1571 - sex-out_loss: 0.2555 - age-out_loss: 6.2870 - sex-out_accuracy: 0.8935 - age-out_accuracy: 0.0488 - val_loss: 9.7040 - val_sex-out_loss: 0.2642 - val_age-out_loss: 8.8189 - val_sex-out_accuracy: 0.8799 - val_age-out_accuracy: 0.0430\n",
      "Epoch 26/250\n",
      "278/278 [==============================] - ETA: 0s - loss: 7.1027 - sex-out_loss: 0.2478 - age-out_loss: 6.2292 - sex-out_accuracy: 0.8949 - age-out_accuracy: 0.0488\n",
      "Epoch 26: val_loss did not improve from 7.84671\n",
      "278/278 [==============================] - 508s 2s/step - loss: 7.1027 - sex-out_loss: 0.2478 - age-out_loss: 6.2292 - sex-out_accuracy: 0.8949 - age-out_accuracy: 0.0488 - val_loss: 9.7992 - val_sex-out_loss: 0.2656 - val_age-out_loss: 8.9033 - val_sex-out_accuracy: 0.8805 - val_age-out_accuracy: 0.0430\n",
      "Epoch 27/250\n",
      "278/278 [==============================] - ETA: 0s - loss: 7.0059 - sex-out_loss: 0.2434 - age-out_loss: 6.1269 - sex-out_accuracy: 0.8972 - age-out_accuracy: 0.0488\n",
      "Epoch 27: val_loss did not improve from 7.84671\n",
      "278/278 [==============================] - 670s 2s/step - loss: 7.0059 - sex-out_loss: 0.2434 - age-out_loss: 6.1269 - sex-out_accuracy: 0.8972 - age-out_accuracy: 0.0488 - val_loss: 8.7546 - val_sex-out_loss: 0.2606 - val_age-out_loss: 7.8547 - val_sex-out_accuracy: 0.8888 - val_age-out_accuracy: 0.0430\n",
      "Epoch 28/250\n",
      "278/278 [==============================] - ETA: 0s - loss: 7.0230 - sex-out_loss: 0.2431 - age-out_loss: 6.1350 - sex-out_accuracy: 0.8955 - age-out_accuracy: 0.0488\n",
      "Epoch 28: val_loss did not improve from 7.84671\n",
      "278/278 [==============================] - 616s 2s/step - loss: 7.0230 - sex-out_loss: 0.2431 - age-out_loss: 6.1350 - sex-out_accuracy: 0.8955 - age-out_accuracy: 0.0488 - val_loss: 9.9401 - val_sex-out_loss: 0.2633 - val_age-out_loss: 9.0249 - val_sex-out_accuracy: 0.8865 - val_age-out_accuracy: 0.0430\n",
      "Epoch 29/250\n",
      "278/278 [==============================] - ETA: 0s - loss: 7.0029 - sex-out_loss: 0.2483 - age-out_loss: 6.0961 - sex-out_accuracy: 0.8908 - age-out_accuracy: 0.0488\n",
      "Epoch 29: val_loss did not improve from 7.84671\n",
      "278/278 [==============================] - 548s 2s/step - loss: 7.0029 - sex-out_loss: 0.2483 - age-out_loss: 6.0961 - sex-out_accuracy: 0.8908 - age-out_accuracy: 0.0488 - val_loss: 9.4723 - val_sex-out_loss: 0.2643 - val_age-out_loss: 8.5444 - val_sex-out_accuracy: 0.8839 - val_age-out_accuracy: 0.0430\n",
      "Epoch 30/250\n",
      "278/278 [==============================] - ETA: 0s - loss: 6.9884 - sex-out_loss: 0.2438 - age-out_loss: 6.0761 - sex-out_accuracy: 0.8953 - age-out_accuracy: 0.0485\n",
      "Epoch 30: val_loss did not improve from 7.84671\n",
      "278/278 [==============================] - 521s 2s/step - loss: 6.9884 - sex-out_loss: 0.2438 - age-out_loss: 6.0761 - sex-out_accuracy: 0.8953 - age-out_accuracy: 0.0485 - val_loss: 8.5090 - val_sex-out_loss: 0.2587 - val_age-out_loss: 7.5769 - val_sex-out_accuracy: 0.8866 - val_age-out_accuracy: 0.0430\n",
      "Epoch 31/250\n",
      "278/278 [==============================] - ETA: 0s - loss: 6.8634 - sex-out_loss: 0.2335 - age-out_loss: 5.9505 - sex-out_accuracy: 0.9003 - age-out_accuracy: 0.0488\n",
      "Epoch 31: val_loss did not improve from 7.84671\n",
      "278/278 [==============================] - 420s 2s/step - loss: 6.8634 - sex-out_loss: 0.2335 - age-out_loss: 5.9505 - sex-out_accuracy: 0.9003 - age-out_accuracy: 0.0488 - val_loss: 8.3145 - val_sex-out_loss: 0.2514 - val_age-out_loss: 7.3784 - val_sex-out_accuracy: 0.8875 - val_age-out_accuracy: 0.0430\n",
      "Epoch 32/250\n",
      "278/278 [==============================] - ETA: 0s - loss: 6.9353 - sex-out_loss: 0.2379 - age-out_loss: 6.0085 - sex-out_accuracy: 0.9001 - age-out_accuracy: 0.0488\n",
      "Epoch 32: val_loss did not improve from 7.84671\n",
      "278/278 [==============================] - 535s 2s/step - loss: 6.9353 - sex-out_loss: 0.2379 - age-out_loss: 6.0085 - sex-out_accuracy: 0.9001 - age-out_accuracy: 0.0488 - val_loss: 8.6977 - val_sex-out_loss: 0.2580 - val_age-out_loss: 7.7461 - val_sex-out_accuracy: 0.8903 - val_age-out_accuracy: 0.0430\n",
      "Epoch 33/250\n",
      "278/278 [==============================] - ETA: 0s - loss: 6.7774 - sex-out_loss: 0.2367 - age-out_loss: 5.8423 - sex-out_accuracy: 0.8992 - age-out_accuracy: 0.0488\n",
      "Epoch 33: val_loss did not improve from 7.84671\n",
      "278/278 [==============================] - 371s 1s/step - loss: 6.7774 - sex-out_loss: 0.2367 - age-out_loss: 5.8423 - sex-out_accuracy: 0.8992 - age-out_accuracy: 0.0488 - val_loss: 8.2776 - val_sex-out_loss: 0.2573 - val_age-out_loss: 7.3172 - val_sex-out_accuracy: 0.8886 - val_age-out_accuracy: 0.0430\n",
      "Epoch 34/250\n",
      "278/278 [==============================] - ETA: 0s - loss: 6.7974 - sex-out_loss: 0.2299 - age-out_loss: 5.8596 - sex-out_accuracy: 0.9024 - age-out_accuracy: 0.0488\n",
      "Epoch 34: val_loss did not improve from 7.84671\n",
      "278/278 [==============================] - 371s 1s/step - loss: 6.7974 - sex-out_loss: 0.2299 - age-out_loss: 5.8596 - sex-out_accuracy: 0.9024 - age-out_accuracy: 0.0488 - val_loss: 8.6879 - val_sex-out_loss: 0.2549 - val_age-out_loss: 7.7204 - val_sex-out_accuracy: 0.8866 - val_age-out_accuracy: 0.0430\n",
      "Epoch 35/250\n",
      "278/278 [==============================] - ETA: 0s - loss: 6.7435 - sex-out_loss: 0.2281 - age-out_loss: 5.7988 - sex-out_accuracy: 0.9047 - age-out_accuracy: 0.0488\n",
      "Epoch 35: val_loss did not improve from 7.84671\n",
      "278/278 [==============================] - 375s 1s/step - loss: 6.7435 - sex-out_loss: 0.2281 - age-out_loss: 5.7988 - sex-out_accuracy: 0.9047 - age-out_accuracy: 0.0488 - val_loss: 9.0026 - val_sex-out_loss: 0.2644 - val_age-out_loss: 8.0171 - val_sex-out_accuracy: 0.8809 - val_age-out_accuracy: 0.0430\n",
      "Epoch 36/250\n",
      "278/278 [==============================] - ETA: 0s - loss: 6.7921 - sex-out_loss: 0.2327 - age-out_loss: 5.8336 - sex-out_accuracy: 0.9028 - age-out_accuracy: 0.0488  \n",
      "Epoch 36: val_loss did not improve from 7.84671\n",
      "278/278 [==============================] - 29930s 108s/step - loss: 6.7921 - sex-out_loss: 0.2327 - age-out_loss: 5.8336 - sex-out_accuracy: 0.9028 - age-out_accuracy: 0.0488 - val_loss: 10.4482 - val_sex-out_loss: 0.2683 - val_age-out_loss: 9.4500 - val_sex-out_accuracy: 0.8851 - val_age-out_accuracy: 0.0430\n",
      "Epoch 37/250\n",
      "278/278 [==============================] - ETA: 0s - loss: 6.7302 - sex-out_loss: 0.2259 - age-out_loss: 5.7698 - sex-out_accuracy: 0.9044 - age-out_accuracy: 0.0488\n",
      "Epoch 37: val_loss did not improve from 7.84671\n",
      "278/278 [==============================] - 577s 2s/step - loss: 6.7302 - sex-out_loss: 0.2259 - age-out_loss: 5.7698 - sex-out_accuracy: 0.9044 - age-out_accuracy: 0.0488 - val_loss: 9.4424 - val_sex-out_loss: 0.2610 - val_age-out_loss: 8.4423 - val_sex-out_accuracy: 0.8871 - val_age-out_accuracy: 0.0430\n",
      "Epoch 38/250\n",
      "278/278 [==============================] - ETA: 0s - loss: 6.6158 - sex-out_loss: 0.2274 - age-out_loss: 5.6455 - sex-out_accuracy: 0.9059 - age-out_accuracy: 0.0488\n",
      "Epoch 38: val_loss did not improve from 7.84671\n",
      "278/278 [==============================] - 536s 2s/step - loss: 6.6158 - sex-out_loss: 0.2274 - age-out_loss: 5.6455 - sex-out_accuracy: 0.9059 - age-out_accuracy: 0.0488 - val_loss: 8.4565 - val_sex-out_loss: 0.2539 - val_age-out_loss: 7.4550 - val_sex-out_accuracy: 0.8873 - val_age-out_accuracy: 0.0430\n",
      "Epoch 39/250\n",
      "278/278 [==============================] - ETA: 0s - loss: 6.6597 - sex-out_loss: 0.2227 - age-out_loss: 5.6852 - sex-out_accuracy: 0.9062 - age-out_accuracy: 0.0488\n",
      "Epoch 39: val_loss did not improve from 7.84671\n",
      "278/278 [==============================] - 596s 2s/step - loss: 6.6597 - sex-out_loss: 0.2227 - age-out_loss: 5.6852 - sex-out_accuracy: 0.9062 - age-out_accuracy: 0.0488 - val_loss: 8.3411 - val_sex-out_loss: 0.2521 - val_age-out_loss: 7.3332 - val_sex-out_accuracy: 0.8908 - val_age-out_accuracy: 0.0430\n",
      "Epoch 40/250\n",
      "278/278 [==============================] - ETA: 0s - loss: 6.6683 - sex-out_loss: 0.2217 - age-out_loss: 5.6876 - sex-out_accuracy: 0.9067 - age-out_accuracy: 0.0488\n",
      "Epoch 40: val_loss did not improve from 7.84671\n",
      "278/278 [==============================] - 672s 2s/step - loss: 6.6683 - sex-out_loss: 0.2217 - age-out_loss: 5.6876 - sex-out_accuracy: 0.9067 - age-out_accuracy: 0.0488 - val_loss: 8.0586 - val_sex-out_loss: 0.2561 - val_age-out_loss: 7.0384 - val_sex-out_accuracy: 0.8871 - val_age-out_accuracy: 0.0430\n",
      "Epoch 41/250\n",
      "278/278 [==============================] - ETA: 0s - loss: 6.6168 - sex-out_loss: 0.2141 - age-out_loss: 5.6352 - sex-out_accuracy: 0.9106 - age-out_accuracy: 0.0488\n",
      "Epoch 41: val_loss did not improve from 7.84671\n",
      "278/278 [==============================] - 634s 2s/step - loss: 6.6168 - sex-out_loss: 0.2141 - age-out_loss: 5.6352 - sex-out_accuracy: 0.9106 - age-out_accuracy: 0.0488 - val_loss: 8.5453 - val_sex-out_loss: 0.2765 - val_age-out_loss: 7.4975 - val_sex-out_accuracy: 0.8809 - val_age-out_accuracy: 0.0430\n",
      "Epoch 42/250\n",
      "278/278 [==============================] - ETA: 0s - loss: 6.5090 - sex-out_loss: 0.2169 - age-out_loss: 5.5153 - sex-out_accuracy: 0.9091 - age-out_accuracy: 0.0488\n",
      "Epoch 42: val_loss did not improve from 7.84671\n",
      "278/278 [==============================] - 510s 2s/step - loss: 6.5090 - sex-out_loss: 0.2169 - age-out_loss: 5.5153 - sex-out_accuracy: 0.9091 - age-out_accuracy: 0.0488 - val_loss: 9.1682 - val_sex-out_loss: 0.2685 - val_age-out_loss: 8.1181 - val_sex-out_accuracy: 0.8875 - val_age-out_accuracy: 0.0430\n",
      "Epoch 43/250\n",
      "278/278 [==============================] - ETA: 0s - loss: 6.5199 - sex-out_loss: 0.2170 - age-out_loss: 5.5172 - sex-out_accuracy: 0.9068 - age-out_accuracy: 0.0488\n",
      "Epoch 43: val_loss did not improve from 7.84671\n",
      "278/278 [==============================] - 465s 2s/step - loss: 6.5199 - sex-out_loss: 0.2170 - age-out_loss: 5.5172 - sex-out_accuracy: 0.9068 - age-out_accuracy: 0.0488 - val_loss: 8.6240 - val_sex-out_loss: 0.2953 - val_age-out_loss: 7.5394 - val_sex-out_accuracy: 0.8792 - val_age-out_accuracy: 0.0430\n",
      "Epoch 44/250\n",
      "278/278 [==============================] - ETA: 0s - loss: 6.5924 - sex-out_loss: 0.2177 - age-out_loss: 5.5808 - sex-out_accuracy: 0.9080 - age-out_accuracy: 0.0488\n",
      "Epoch 44: val_loss did not improve from 7.84671\n",
      "278/278 [==============================] - 404s 1s/step - loss: 6.5924 - sex-out_loss: 0.2177 - age-out_loss: 5.5808 - sex-out_accuracy: 0.9080 - age-out_accuracy: 0.0488 - val_loss: 8.9537 - val_sex-out_loss: 0.2650 - val_age-out_loss: 7.8901 - val_sex-out_accuracy: 0.8846 - val_age-out_accuracy: 0.0430\n",
      "Epoch 45/250\n",
      "278/278 [==============================] - ETA: 0s - loss: 6.4978 - sex-out_loss: 0.2139 - age-out_loss: 5.4826 - sex-out_accuracy: 0.9087 - age-out_accuracy: 0.0485\n",
      "Epoch 45: val_loss did not improve from 7.84671\n",
      "278/278 [==============================] - 376s 1s/step - loss: 6.4978 - sex-out_loss: 0.2139 - age-out_loss: 5.4826 - sex-out_accuracy: 0.9087 - age-out_accuracy: 0.0485 - val_loss: 7.9479 - val_sex-out_loss: 0.2544 - val_age-out_loss: 6.8884 - val_sex-out_accuracy: 0.8885 - val_age-out_accuracy: 0.0430\n",
      "Epoch 46/250\n",
      "278/278 [==============================] - ETA: 0s - loss: 6.4314 - sex-out_loss: 0.2143 - age-out_loss: 5.4086 - sex-out_accuracy: 0.9092 - age-out_accuracy: 0.0484\n",
      "Epoch 46: val_loss did not improve from 7.84671\n",
      "278/278 [==============================] - 373s 1s/step - loss: 6.4314 - sex-out_loss: 0.2143 - age-out_loss: 5.4086 - sex-out_accuracy: 0.9092 - age-out_accuracy: 0.0484 - val_loss: 7.9598 - val_sex-out_loss: 0.2617 - val_age-out_loss: 6.8862 - val_sex-out_accuracy: 0.8875 - val_age-out_accuracy: 0.0430\n",
      "Epoch 47/250\n",
      "278/278 [==============================] - ETA: 0s - loss: 6.4888 - sex-out_loss: 0.2112 - age-out_loss: 5.4622 - sex-out_accuracy: 0.9130 - age-out_accuracy: 0.0484\n",
      "Epoch 47: val_loss did not improve from 7.84671\n",
      "278/278 [==============================] - 1940s 7s/step - loss: 6.4888 - sex-out_loss: 0.2112 - age-out_loss: 5.4622 - sex-out_accuracy: 0.9130 - age-out_accuracy: 0.0484 - val_loss: 8.6946 - val_sex-out_loss: 0.2642 - val_age-out_loss: 7.6116 - val_sex-out_accuracy: 0.8768 - val_age-out_accuracy: 0.0430\n",
      "Epoch 48/250\n",
      "278/278 [==============================] - ETA: 0s - loss: 6.4188 - sex-out_loss: 0.2097 - age-out_loss: 5.3877 - sex-out_accuracy: 0.9116 - age-out_accuracy: 0.0482\n",
      "Epoch 48: val_loss did not improve from 7.84671\n",
      "278/278 [==============================] - 402s 1s/step - loss: 6.4188 - sex-out_loss: 0.2097 - age-out_loss: 5.3877 - sex-out_accuracy: 0.9116 - age-out_accuracy: 0.0482 - val_loss: 8.5852 - val_sex-out_loss: 0.2620 - val_age-out_loss: 7.4997 - val_sex-out_accuracy: 0.8881 - val_age-out_accuracy: 0.0430\n",
      "Epoch 49/250\n",
      "278/278 [==============================] - ETA: 0s - loss: 6.4263 - sex-out_loss: 0.2108 - age-out_loss: 5.3879 - sex-out_accuracy: 0.9127 - age-out_accuracy: 0.0484\n",
      "Epoch 49: val_loss did not improve from 7.84671\n",
      "278/278 [==============================] - 392s 1s/step - loss: 6.4263 - sex-out_loss: 0.2108 - age-out_loss: 5.3879 - sex-out_accuracy: 0.9127 - age-out_accuracy: 0.0484 - val_loss: 7.9057 - val_sex-out_loss: 0.2539 - val_age-out_loss: 6.8202 - val_sex-out_accuracy: 0.8886 - val_age-out_accuracy: 0.0430\n",
      "Epoch 50/250\n",
      "278/278 [==============================] - ETA: 0s - loss: 6.3254 - sex-out_loss: 0.2090 - age-out_loss: 5.2812 - sex-out_accuracy: 0.9118 - age-out_accuracy: 0.0483\n",
      "Epoch 50: val_loss did not improve from 7.84671\n",
      "278/278 [==============================] - 391s 1s/step - loss: 6.3254 - sex-out_loss: 0.2090 - age-out_loss: 5.2812 - sex-out_accuracy: 0.9118 - age-out_accuracy: 0.0483 - val_loss: 8.2313 - val_sex-out_loss: 0.2579 - val_age-out_loss: 7.1354 - val_sex-out_accuracy: 0.8927 - val_age-out_accuracy: 0.0430\n",
      "Epoch 51/250\n",
      "278/278 [==============================] - ETA: 0s - loss: 6.3395 - sex-out_loss: 0.2097 - age-out_loss: 5.2885 - sex-out_accuracy: 0.9138 - age-out_accuracy: 0.0480\n",
      "Epoch 51: val_loss did not improve from 7.84671\n",
      "278/278 [==============================] - 406s 1s/step - loss: 6.3395 - sex-out_loss: 0.2097 - age-out_loss: 5.2885 - sex-out_accuracy: 0.9138 - age-out_accuracy: 0.0480 - val_loss: 8.7349 - val_sex-out_loss: 0.2589 - val_age-out_loss: 7.6320 - val_sex-out_accuracy: 0.8854 - val_age-out_accuracy: 0.0430\n",
      "Epoch 52/250\n",
      "278/278 [==============================] - ETA: 0s - loss: 6.3074 - sex-out_loss: 0.2095 - age-out_loss: 5.2504 - sex-out_accuracy: 0.9154 - age-out_accuracy: 0.0480\n",
      "Epoch 52: val_loss did not improve from 7.84671\n",
      "278/278 [==============================] - 500s 2s/step - loss: 6.3074 - sex-out_loss: 0.2095 - age-out_loss: 5.2504 - sex-out_accuracy: 0.9154 - age-out_accuracy: 0.0480 - val_loss: 8.7682 - val_sex-out_loss: 0.2844 - val_age-out_loss: 7.6321 - val_sex-out_accuracy: 0.8714 - val_age-out_accuracy: 0.0430\n",
      "Epoch 53/250\n",
      "278/278 [==============================] - ETA: 0s - loss: 6.3836 - sex-out_loss: 0.2120 - age-out_loss: 5.3166 - sex-out_accuracy: 0.9113 - age-out_accuracy: 0.0479\n",
      "Epoch 53: val_loss did not improve from 7.84671\n",
      "278/278 [==============================] - 604s 2s/step - loss: 6.3836 - sex-out_loss: 0.2120 - age-out_loss: 5.3166 - sex-out_accuracy: 0.9113 - age-out_accuracy: 0.0479 - val_loss: 8.6999 - val_sex-out_loss: 0.2543 - val_age-out_loss: 7.5872 - val_sex-out_accuracy: 0.8878 - val_age-out_accuracy: 0.0430\n",
      "Epoch 54/250\n",
      "278/278 [==============================] - ETA: 0s - loss: 6.3605 - sex-out_loss: 0.2074 - age-out_loss: 5.2918 - sex-out_accuracy: 0.9124 - age-out_accuracy: 0.0470\n",
      "Epoch 54: val_loss did not improve from 7.84671\n",
      "278/278 [==============================] - 648s 2s/step - loss: 6.3605 - sex-out_loss: 0.2074 - age-out_loss: 5.2918 - sex-out_accuracy: 0.9124 - age-out_accuracy: 0.0470 - val_loss: 8.8676 - val_sex-out_loss: 0.2814 - val_age-out_loss: 7.7216 - val_sex-out_accuracy: 0.8709 - val_age-out_accuracy: 0.0430\n",
      "Epoch 55/250\n",
      "278/278 [==============================] - ETA: 0s - loss: 6.3495 - sex-out_loss: 0.2093 - age-out_loss: 5.2726 - sex-out_accuracy: 0.9109 - age-out_accuracy: 0.0480\n",
      "Epoch 55: val_loss did not improve from 7.84671\n",
      "278/278 [==============================] - 556s 2s/step - loss: 6.3495 - sex-out_loss: 0.2093 - age-out_loss: 5.2726 - sex-out_accuracy: 0.9109 - age-out_accuracy: 0.0480 - val_loss: 8.2313 - val_sex-out_loss: 0.2577 - val_age-out_loss: 7.1032 - val_sex-out_accuracy: 0.8876 - val_age-out_accuracy: 0.0430\n",
      "Epoch 56/250\n",
      "278/278 [==============================] - ETA: 0s - loss: 6.3138 - sex-out_loss: 0.2051 - age-out_loss: 5.2355 - sex-out_accuracy: 0.9160 - age-out_accuracy: 0.0477\n",
      "Epoch 56: val_loss did not improve from 7.84671\n",
      "278/278 [==============================] - 393s 1s/step - loss: 6.3138 - sex-out_loss: 0.2051 - age-out_loss: 5.2355 - sex-out_accuracy: 0.9160 - age-out_accuracy: 0.0477 - val_loss: 8.1065 - val_sex-out_loss: 0.2676 - val_age-out_loss: 6.9630 - val_sex-out_accuracy: 0.8800 - val_age-out_accuracy: 0.0430\n",
      "Epoch 57/250\n",
      "278/278 [==============================] - ETA: 0s - loss: 6.2528 - sex-out_loss: 0.2006 - age-out_loss: 5.1743 - sex-out_accuracy: 0.9148 - age-out_accuracy: 0.0467\n",
      "Epoch 57: val_loss did not improve from 7.84671\n",
      "278/278 [==============================] - 423s 2s/step - loss: 6.2528 - sex-out_loss: 0.2006 - age-out_loss: 5.1743 - sex-out_accuracy: 0.9148 - age-out_accuracy: 0.0467 - val_loss: 8.7316 - val_sex-out_loss: 0.2565 - val_age-out_loss: 7.5942 - val_sex-out_accuracy: 0.8868 - val_age-out_accuracy: 0.0430\n",
      "Epoch 58/250\n",
      "278/278 [==============================] - ETA: 0s - loss: 6.2258 - sex-out_loss: 0.1999 - age-out_loss: 5.1436 - sex-out_accuracy: 0.9161 - age-out_accuracy: 0.0472\n",
      "Epoch 58: val_loss did not improve from 7.84671\n",
      "278/278 [==============================] - 421s 2s/step - loss: 6.2258 - sex-out_loss: 0.1999 - age-out_loss: 5.1436 - sex-out_accuracy: 0.9161 - age-out_accuracy: 0.0472 - val_loss: 8.0248 - val_sex-out_loss: 0.2574 - val_age-out_loss: 6.8819 - val_sex-out_accuracy: 0.8924 - val_age-out_accuracy: 0.0430\n",
      "Epoch 59/250\n",
      "278/278 [==============================] - ETA: 0s - loss: 6.2755 - sex-out_loss: 0.1962 - age-out_loss: 5.1915 - sex-out_accuracy: 0.9191 - age-out_accuracy: 0.0467\n",
      "Epoch 59: val_loss did not improve from 7.84671\n",
      "278/278 [==============================] - 442s 2s/step - loss: 6.2755 - sex-out_loss: 0.1962 - age-out_loss: 5.1915 - sex-out_accuracy: 0.9191 - age-out_accuracy: 0.0467 - val_loss: 8.0669 - val_sex-out_loss: 0.2839 - val_age-out_loss: 6.8933 - val_sex-out_accuracy: 0.8858 - val_age-out_accuracy: 0.0430\n",
      "Epoch 60/250\n",
      "278/278 [==============================] - ETA: 0s - loss: 6.2571 - sex-out_loss: 0.1962 - age-out_loss: 5.1679 - sex-out_accuracy: 0.9178 - age-out_accuracy: 0.0467\n",
      "Epoch 60: val_loss did not improve from 7.84671\n",
      "278/278 [==============================] - 460s 2s/step - loss: 6.2571 - sex-out_loss: 0.1962 - age-out_loss: 5.1679 - sex-out_accuracy: 0.9178 - age-out_accuracy: 0.0467 - val_loss: 8.8561 - val_sex-out_loss: 0.2588 - val_age-out_loss: 7.7007 - val_sex-out_accuracy: 0.8902 - val_age-out_accuracy: 0.0430\n",
      "Epoch 61/250\n",
      "278/278 [==============================] - ETA: 0s - loss: 6.2243 - sex-out_loss: 0.1979 - age-out_loss: 5.1267 - sex-out_accuracy: 0.9173 - age-out_accuracy: 0.0459\n",
      "Epoch 61: val_loss did not improve from 7.84671\n",
      "278/278 [==============================] - 390s 1s/step - loss: 6.2243 - sex-out_loss: 0.1979 - age-out_loss: 5.1267 - sex-out_accuracy: 0.9173 - age-out_accuracy: 0.0459 - val_loss: 8.8559 - val_sex-out_loss: 0.2614 - val_age-out_loss: 7.6922 - val_sex-out_accuracy: 0.8903 - val_age-out_accuracy: 0.0430\n",
      "Epoch 62/250\n",
      "278/278 [==============================] - ETA: 0s - loss: 6.2544 - sex-out_loss: 0.1939 - age-out_loss: 5.1565 - sex-out_accuracy: 0.9193 - age-out_accuracy: 0.0462\n",
      "Epoch 62: val_loss did not improve from 7.84671\n",
      "278/278 [==============================] - 408s 1s/step - loss: 6.2544 - sex-out_loss: 0.1939 - age-out_loss: 5.1565 - sex-out_accuracy: 0.9193 - age-out_accuracy: 0.0462 - val_loss: 8.0442 - val_sex-out_loss: 0.2604 - val_age-out_loss: 6.8778 - val_sex-out_accuracy: 0.8843 - val_age-out_accuracy: 0.0430\n",
      "Epoch 63/250\n",
      "278/278 [==============================] - ETA: 0s - loss: 6.1816 - sex-out_loss: 0.1989 - age-out_loss: 5.0744 - sex-out_accuracy: 0.9166 - age-out_accuracy: 0.0459\n",
      "Epoch 63: val_loss did not improve from 7.84671\n",
      "278/278 [==============================] - 399s 1s/step - loss: 6.1816 - sex-out_loss: 0.1989 - age-out_loss: 5.0744 - sex-out_accuracy: 0.9166 - age-out_accuracy: 0.0459 - val_loss: 8.1706 - val_sex-out_loss: 0.2609 - val_age-out_loss: 6.9985 - val_sex-out_accuracy: 0.8919 - val_age-out_accuracy: 0.0430\n",
      "Epoch 64/250\n",
      "278/278 [==============================] - ETA: 0s - loss: 6.2070 - sex-out_loss: 0.1939 - age-out_loss: 5.1000 - sex-out_accuracy: 0.9190 - age-out_accuracy: 0.0459\n",
      "Epoch 64: val_loss did not improve from 7.84671\n",
      "278/278 [==============================] - 397s 1s/step - loss: 6.2070 - sex-out_loss: 0.1939 - age-out_loss: 5.1000 - sex-out_accuracy: 0.9190 - age-out_accuracy: 0.0459 - val_loss: 8.2526 - val_sex-out_loss: 0.2581 - val_age-out_loss: 7.0791 - val_sex-out_accuracy: 0.8883 - val_age-out_accuracy: 0.0430\n",
      "Epoch 65/250\n",
      "278/278 [==============================] - ETA: 0s - loss: 6.1739 - sex-out_loss: 0.1885 - age-out_loss: 5.0686 - sex-out_accuracy: 0.9231 - age-out_accuracy: 0.0459\n",
      "Epoch 65: val_loss did not improve from 7.84671\n",
      "278/278 [==============================] - 524s 2s/step - loss: 6.1739 - sex-out_loss: 0.1885 - age-out_loss: 5.0686 - sex-out_accuracy: 0.9231 - age-out_accuracy: 0.0459 - val_loss: 8.4185 - val_sex-out_loss: 0.2712 - val_age-out_loss: 7.2295 - val_sex-out_accuracy: 0.8878 - val_age-out_accuracy: 0.0430\n",
      "Epoch 66/250\n",
      "278/278 [==============================] - ETA: 0s - loss: 6.1533 - sex-out_loss: 0.1921 - age-out_loss: 5.0414 - sex-out_accuracy: 0.9224 - age-out_accuracy: 0.0452\n",
      "Epoch 66: val_loss did not improve from 7.84671\n",
      "278/278 [==============================] - 463s 2s/step - loss: 6.1533 - sex-out_loss: 0.1921 - age-out_loss: 5.0414 - sex-out_accuracy: 0.9224 - age-out_accuracy: 0.0452 - val_loss: 8.8172 - val_sex-out_loss: 0.2711 - val_age-out_loss: 7.6243 - val_sex-out_accuracy: 0.8865 - val_age-out_accuracy: 0.0430\n",
      "Epoch 67/250\n",
      "278/278 [==============================] - ETA: 0s - loss: 6.1815 - sex-out_loss: 0.1949 - age-out_loss: 5.0633 - sex-out_accuracy: 0.9188 - age-out_accuracy: 0.0441\n",
      "Epoch 67: val_loss did not improve from 7.84671\n",
      "278/278 [==============================] - 462s 2s/step - loss: 6.1815 - sex-out_loss: 0.1949 - age-out_loss: 5.0633 - sex-out_accuracy: 0.9188 - age-out_accuracy: 0.0441 - val_loss: 8.7895 - val_sex-out_loss: 0.2624 - val_age-out_loss: 7.6029 - val_sex-out_accuracy: 0.8897 - val_age-out_accuracy: 0.0430\n",
      "Epoch 68/250\n",
      "278/278 [==============================] - ETA: 0s - loss: 6.1136 - sex-out_loss: 0.1926 - age-out_loss: 4.9949 - sex-out_accuracy: 0.9215 - age-out_accuracy: 0.0457\n",
      "Epoch 68: val_loss did not improve from 7.84671\n",
      "278/278 [==============================] - 456s 2s/step - loss: 6.1136 - sex-out_loss: 0.1926 - age-out_loss: 4.9949 - sex-out_accuracy: 0.9215 - age-out_accuracy: 0.0457 - val_loss: 8.4860 - val_sex-out_loss: 0.2650 - val_age-out_loss: 7.2934 - val_sex-out_accuracy: 0.8817 - val_age-out_accuracy: 0.0430\n",
      "Epoch 69/250\n",
      "278/278 [==============================] - ETA: 0s - loss: 6.1130 - sex-out_loss: 0.1952 - age-out_loss: 4.9882 - sex-out_accuracy: 0.9177 - age-out_accuracy: 0.0456\n",
      "Epoch 69: val_loss did not improve from 7.84671\n",
      "278/278 [==============================] - 458s 2s/step - loss: 6.1130 - sex-out_loss: 0.1952 - age-out_loss: 4.9882 - sex-out_accuracy: 0.9177 - age-out_accuracy: 0.0456 - val_loss: 8.9197 - val_sex-out_loss: 0.2728 - val_age-out_loss: 7.7150 - val_sex-out_accuracy: 0.8792 - val_age-out_accuracy: 0.0430\n",
      "Epoch 70/250\n",
      "278/278 [==============================] - ETA: 0s - loss: 6.1346 - sex-out_loss: 0.1870 - age-out_loss: 5.0131 - sex-out_accuracy: 0.9209 - age-out_accuracy: 0.0437\n",
      "Epoch 70: val_loss improved from 7.84671 to 7.84052, saving model to Age_Sex_Detector.h5\n",
      "278/278 [==============================] - 460s 2s/step - loss: 6.1346 - sex-out_loss: 0.1870 - age-out_loss: 5.0131 - sex-out_accuracy: 0.9209 - age-out_accuracy: 0.0437 - val_loss: 7.8405 - val_sex-out_loss: 0.2660 - val_age-out_loss: 6.6381 - val_sex-out_accuracy: 0.8861 - val_age-out_accuracy: 0.0425\n",
      "Epoch 71/250\n",
      "278/278 [==============================] - ETA: 0s - loss: 6.0825 - sex-out_loss: 0.1919 - age-out_loss: 4.9538 - sex-out_accuracy: 0.9211 - age-out_accuracy: 0.0446\n",
      "Epoch 71: val_loss did not improve from 7.84052\n",
      "278/278 [==============================] - 464s 2s/step - loss: 6.0825 - sex-out_loss: 0.1919 - age-out_loss: 4.9538 - sex-out_accuracy: 0.9211 - age-out_accuracy: 0.0446 - val_loss: 8.3937 - val_sex-out_loss: 0.2657 - val_age-out_loss: 7.1887 - val_sex-out_accuracy: 0.8843 - val_age-out_accuracy: 0.0429\n",
      "Epoch 72/250\n",
      "278/278 [==============================] - ETA: 0s - loss: 6.1392 - sex-out_loss: 0.1903 - age-out_loss: 5.0073 - sex-out_accuracy: 0.9203 - age-out_accuracy: 0.0426\n",
      "Epoch 72: val_loss did not improve from 7.84052\n",
      "278/278 [==============================] - 460s 2s/step - loss: 6.1392 - sex-out_loss: 0.1903 - age-out_loss: 5.0073 - sex-out_accuracy: 0.9203 - age-out_accuracy: 0.0426 - val_loss: 8.4169 - val_sex-out_loss: 0.2599 - val_age-out_loss: 7.2122 - val_sex-out_accuracy: 0.8853 - val_age-out_accuracy: 0.0427\n",
      "Epoch 73/250\n",
      "278/278 [==============================] - ETA: 0s - loss: 6.0935 - sex-out_loss: 0.1885 - age-out_loss: 4.9591 - sex-out_accuracy: 0.9217 - age-out_accuracy: 0.0435\n",
      "Epoch 73: val_loss did not improve from 7.84052\n",
      "278/278 [==============================] - 457s 2s/step - loss: 6.0935 - sex-out_loss: 0.1885 - age-out_loss: 4.9591 - sex-out_accuracy: 0.9217 - age-out_accuracy: 0.0435 - val_loss: 8.4954 - val_sex-out_loss: 0.2801 - val_age-out_loss: 7.2680 - val_sex-out_accuracy: 0.8856 - val_age-out_accuracy: 0.0430\n",
      "Epoch 74/250\n",
      "278/278 [==============================] - ETA: 0s - loss: 6.0900 - sex-out_loss: 0.1867 - age-out_loss: 4.9549 - sex-out_accuracy: 0.9200 - age-out_accuracy: 0.0424\n",
      "Epoch 74: val_loss did not improve from 7.84052\n",
      "278/278 [==============================] - 461s 2s/step - loss: 6.0900 - sex-out_loss: 0.1867 - age-out_loss: 4.9549 - sex-out_accuracy: 0.9200 - age-out_accuracy: 0.0424 - val_loss: 7.8648 - val_sex-out_loss: 0.2690 - val_age-out_loss: 6.6460 - val_sex-out_accuracy: 0.8866 - val_age-out_accuracy: 0.0427\n",
      "Epoch 75/250\n",
      "278/278 [==============================] - ETA: 0s - loss: 6.1239 - sex-out_loss: 0.1853 - age-out_loss: 4.9868 - sex-out_accuracy: 0.9249 - age-out_accuracy: 0.0421\n",
      "Epoch 75: val_loss did not improve from 7.84052\n",
      "278/278 [==============================] - 459s 2s/step - loss: 6.1239 - sex-out_loss: 0.1853 - age-out_loss: 4.9868 - sex-out_accuracy: 0.9249 - age-out_accuracy: 0.0421 - val_loss: 8.5329 - val_sex-out_loss: 0.2612 - val_age-out_loss: 7.3181 - val_sex-out_accuracy: 0.8875 - val_age-out_accuracy: 0.0427\n",
      "Epoch 76/250\n",
      "278/278 [==============================] - ETA: 0s - loss: 6.0552 - sex-out_loss: 0.1861 - age-out_loss: 4.9141 - sex-out_accuracy: 0.9231 - age-out_accuracy: 0.0416\n",
      "Epoch 76: val_loss did not improve from 7.84052\n",
      "278/278 [==============================] - 458s 2s/step - loss: 6.0552 - sex-out_loss: 0.1861 - age-out_loss: 4.9141 - sex-out_accuracy: 0.9231 - age-out_accuracy: 0.0416 - val_loss: 8.7708 - val_sex-out_loss: 0.2685 - val_age-out_loss: 7.5456 - val_sex-out_accuracy: 0.8841 - val_age-out_accuracy: 0.0425\n",
      "Epoch 77/250\n",
      "278/278 [==============================] - ETA: 0s - loss: 6.0827 - sex-out_loss: 0.1837 - age-out_loss: 4.9410 - sex-out_accuracy: 0.9238 - age-out_accuracy: 0.0419\n",
      "Epoch 77: val_loss did not improve from 7.84052\n",
      "278/278 [==============================] - 459s 2s/step - loss: 6.0827 - sex-out_loss: 0.1837 - age-out_loss: 4.9410 - sex-out_accuracy: 0.9238 - age-out_accuracy: 0.0419 - val_loss: 8.4408 - val_sex-out_loss: 0.2769 - val_age-out_loss: 7.2036 - val_sex-out_accuracy: 0.8902 - val_age-out_accuracy: 0.0430\n",
      "Epoch 78/250\n",
      "278/278 [==============================] - ETA: 0s - loss: 6.0504 - sex-out_loss: 0.1858 - age-out_loss: 4.9042 - sex-out_accuracy: 0.9240 - age-out_accuracy: 0.0414\n",
      "Epoch 78: val_loss did not improve from 7.84052\n",
      "278/278 [==============================] - 501s 2s/step - loss: 6.0504 - sex-out_loss: 0.1858 - age-out_loss: 4.9042 - sex-out_accuracy: 0.9240 - age-out_accuracy: 0.0414 - val_loss: 8.9940 - val_sex-out_loss: 0.2801 - val_age-out_loss: 7.7522 - val_sex-out_accuracy: 0.8829 - val_age-out_accuracy: 0.0430\n",
      "Epoch 79/250\n",
      "278/278 [==============================] - ETA: 0s - loss: 6.0573 - sex-out_loss: 0.1845 - age-out_loss: 4.9091 - sex-out_accuracy: 0.9241 - age-out_accuracy: 0.0394\n",
      "Epoch 79: val_loss did not improve from 7.84052\n",
      "278/278 [==============================] - 646s 2s/step - loss: 6.0573 - sex-out_loss: 0.1845 - age-out_loss: 4.9091 - sex-out_accuracy: 0.9241 - age-out_accuracy: 0.0394 - val_loss: 8.6280 - val_sex-out_loss: 0.2693 - val_age-out_loss: 7.3941 - val_sex-out_accuracy: 0.8873 - val_age-out_accuracy: 0.0430\n",
      "Epoch 80/250\n",
      "278/278 [==============================] - ETA: 0s - loss: 5.9814 - sex-out_loss: 0.1864 - age-out_loss: 4.8281 - sex-out_accuracy: 0.9193 - age-out_accuracy: 0.0402\n",
      "Epoch 80: val_loss did not improve from 7.84052\n",
      "278/278 [==============================] - 561s 2s/step - loss: 5.9814 - sex-out_loss: 0.1864 - age-out_loss: 4.8281 - sex-out_accuracy: 0.9193 - age-out_accuracy: 0.0402 - val_loss: 8.1186 - val_sex-out_loss: 0.2753 - val_age-out_loss: 6.8746 - val_sex-out_accuracy: 0.8856 - val_age-out_accuracy: 0.0430\n",
      "Epoch 81/250\n",
      "278/278 [==============================] - ETA: 0s - loss: 6.0845 - sex-out_loss: 0.1865 - age-out_loss: 4.9282 - sex-out_accuracy: 0.9223 - age-out_accuracy: 0.0404\n",
      "Epoch 81: val_loss did not improve from 7.84052\n",
      "278/278 [==============================] - 523s 2s/step - loss: 6.0845 - sex-out_loss: 0.1865 - age-out_loss: 4.9282 - sex-out_accuracy: 0.9223 - age-out_accuracy: 0.0404 - val_loss: 7.8683 - val_sex-out_loss: 0.2717 - val_age-out_loss: 6.6253 - val_sex-out_accuracy: 0.8895 - val_age-out_accuracy: 0.0407\n",
      "Epoch 82/250\n",
      "278/278 [==============================] - ETA: 0s - loss: 6.0528 - sex-out_loss: 0.1844 - age-out_loss: 4.8954 - sex-out_accuracy: 0.9246 - age-out_accuracy: 0.0386\n",
      "Epoch 82: val_loss did not improve from 7.84052\n",
      "278/278 [==============================] - 749s 3s/step - loss: 6.0528 - sex-out_loss: 0.1844 - age-out_loss: 4.8954 - sex-out_accuracy: 0.9246 - age-out_accuracy: 0.0386 - val_loss: 8.3550 - val_sex-out_loss: 0.2642 - val_age-out_loss: 7.1157 - val_sex-out_accuracy: 0.8905 - val_age-out_accuracy: 0.0430\n",
      "Epoch 83/250\n",
      "278/278 [==============================] - ETA: 0s - loss: 5.9752 - sex-out_loss: 0.1790 - age-out_loss: 4.8206 - sex-out_accuracy: 0.9241 - age-out_accuracy: 0.0412\n",
      "Epoch 83: val_loss did not improve from 7.84052\n",
      "278/278 [==============================] - 457s 2s/step - loss: 5.9752 - sex-out_loss: 0.1790 - age-out_loss: 4.8206 - sex-out_accuracy: 0.9241 - age-out_accuracy: 0.0412 - val_loss: 8.3962 - val_sex-out_loss: 0.2841 - val_age-out_loss: 7.1359 - val_sex-out_accuracy: 0.8866 - val_age-out_accuracy: 0.0418\n",
      "Epoch 84/250\n",
      "278/278 [==============================] - ETA: 0s - loss: 5.9551 - sex-out_loss: 0.1823 - age-out_loss: 4.7948 - sex-out_accuracy: 0.9252 - age-out_accuracy: 0.0409\n",
      "Epoch 84: val_loss did not improve from 7.84052\n",
      "278/278 [==============================] - 400s 1s/step - loss: 5.9551 - sex-out_loss: 0.1823 - age-out_loss: 4.7948 - sex-out_accuracy: 0.9252 - age-out_accuracy: 0.0409 - val_loss: 8.7748 - val_sex-out_loss: 0.2573 - val_age-out_loss: 7.5371 - val_sex-out_accuracy: 0.8907 - val_age-out_accuracy: 0.0425\n",
      "Epoch 85/250\n",
      "278/278 [==============================] - ETA: 0s - loss: 5.9656 - sex-out_loss: 0.1839 - age-out_loss: 4.7995 - sex-out_accuracy: 0.9254 - age-out_accuracy: 0.0391\n",
      "Epoch 85: val_loss did not improve from 7.84052\n",
      "278/278 [==============================] - 370s 1s/step - loss: 5.9656 - sex-out_loss: 0.1839 - age-out_loss: 4.7995 - sex-out_accuracy: 0.9254 - age-out_accuracy: 0.0391 - val_loss: 8.3922 - val_sex-out_loss: 0.2784 - val_age-out_loss: 7.1305 - val_sex-out_accuracy: 0.8858 - val_age-out_accuracy: 0.0422\n",
      "Epoch 86/250\n",
      "278/278 [==============================] - ETA: 0s - loss: 5.9913 - sex-out_loss: 0.1794 - age-out_loss: 4.8267 - sex-out_accuracy: 0.9248 - age-out_accuracy: 0.0385\n",
      "Epoch 86: val_loss did not improve from 7.84052\n",
      "278/278 [==============================] - 445s 2s/step - loss: 5.9913 - sex-out_loss: 0.1794 - age-out_loss: 4.8267 - sex-out_accuracy: 0.9248 - age-out_accuracy: 0.0385 - val_loss: 8.0202 - val_sex-out_loss: 0.2672 - val_age-out_loss: 6.7666 - val_sex-out_accuracy: 0.8851 - val_age-out_accuracy: 0.0427\n",
      "Epoch 87/250\n",
      "278/278 [==============================] - ETA: 0s - loss: 5.9783 - sex-out_loss: 0.1771 - age-out_loss: 4.8148 - sex-out_accuracy: 0.9241 - age-out_accuracy: 0.0382\n",
      "Epoch 87: val_loss did not improve from 7.84052\n",
      "278/278 [==============================] - 713s 3s/step - loss: 5.9783 - sex-out_loss: 0.1771 - age-out_loss: 4.8148 - sex-out_accuracy: 0.9241 - age-out_accuracy: 0.0382 - val_loss: 8.6710 - val_sex-out_loss: 0.2615 - val_age-out_loss: 7.4221 - val_sex-out_accuracy: 0.8907 - val_age-out_accuracy: 0.0430\n",
      "Epoch 88/250\n",
      "278/278 [==============================] - ETA: 0s - loss: 5.9582 - sex-out_loss: 0.1794 - age-out_loss: 4.7892 - sex-out_accuracy: 0.9233 - age-out_accuracy: 0.0394\n",
      "Epoch 88: val_loss did not improve from 7.84052\n",
      "278/278 [==============================] - 713s 3s/step - loss: 5.9582 - sex-out_loss: 0.1794 - age-out_loss: 4.7892 - sex-out_accuracy: 0.9233 - age-out_accuracy: 0.0394 - val_loss: 8.2774 - val_sex-out_loss: 0.2932 - val_age-out_loss: 6.9930 - val_sex-out_accuracy: 0.8824 - val_age-out_accuracy: 0.0417\n",
      "Epoch 89/250\n",
      "278/278 [==============================] - ETA: 0s - loss: 5.9851 - sex-out_loss: 0.1834 - age-out_loss: 4.8099 - sex-out_accuracy: 0.9228 - age-out_accuracy: 0.0367\n",
      "Epoch 89: val_loss did not improve from 7.84052\n",
      "278/278 [==============================] - 536s 2s/step - loss: 5.9851 - sex-out_loss: 0.1834 - age-out_loss: 4.8099 - sex-out_accuracy: 0.9228 - age-out_accuracy: 0.0367 - val_loss: 8.4395 - val_sex-out_loss: 0.2738 - val_age-out_loss: 7.1740 - val_sex-out_accuracy: 0.8871 - val_age-out_accuracy: 0.0430\n",
      "Epoch 90/250\n",
      "278/278 [==============================] - ETA: 0s - loss: 5.9658 - sex-out_loss: 0.1775 - age-out_loss: 4.7942 - sex-out_accuracy: 0.9250 - age-out_accuracy: 0.0372\n",
      "Epoch 90: val_loss did not improve from 7.84052\n",
      "278/278 [==============================] - 450s 2s/step - loss: 5.9658 - sex-out_loss: 0.1775 - age-out_loss: 4.7942 - sex-out_accuracy: 0.9250 - age-out_accuracy: 0.0372 - val_loss: 8.3148 - val_sex-out_loss: 0.2754 - val_age-out_loss: 7.0434 - val_sex-out_accuracy: 0.8934 - val_age-out_accuracy: 0.0430\n",
      "Epoch 91/250\n",
      "278/278 [==============================] - ETA: 0s - loss: 5.9677 - sex-out_loss: 0.1797 - age-out_loss: 4.7920 - sex-out_accuracy: 0.9242 - age-out_accuracy: 0.0375\n",
      "Epoch 91: val_loss did not improve from 7.84052\n",
      "278/278 [==============================] - 370s 1s/step - loss: 5.9677 - sex-out_loss: 0.1797 - age-out_loss: 4.7920 - sex-out_accuracy: 0.9242 - age-out_accuracy: 0.0375 - val_loss: 8.5113 - val_sex-out_loss: 0.2601 - val_age-out_loss: 7.2542 - val_sex-out_accuracy: 0.8885 - val_age-out_accuracy: 0.0430\n",
      "Epoch 92/250\n",
      "278/278 [==============================] - ETA: 0s - loss: 5.9855 - sex-out_loss: 0.1709 - age-out_loss: 4.8160 - sex-out_accuracy: 0.9289 - age-out_accuracy: 0.0363\n",
      "Epoch 92: val_loss did not improve from 7.84052\n",
      "278/278 [==============================] - 374s 1s/step - loss: 5.9855 - sex-out_loss: 0.1709 - age-out_loss: 4.8160 - sex-out_accuracy: 0.9289 - age-out_accuracy: 0.0363 - val_loss: 8.5372 - val_sex-out_loss: 0.2754 - val_age-out_loss: 7.2618 - val_sex-out_accuracy: 0.8836 - val_age-out_accuracy: 0.0423\n",
      "Epoch 93/250\n",
      "278/278 [==============================] - ETA: 0s - loss: 5.9220 - sex-out_loss: 0.1735 - age-out_loss: 4.7473 - sex-out_accuracy: 0.9276 - age-out_accuracy: 0.0382\n",
      "Epoch 93: val_loss did not improve from 7.84052\n",
      "278/278 [==============================] - 1619s 6s/step - loss: 5.9220 - sex-out_loss: 0.1735 - age-out_loss: 4.7473 - sex-out_accuracy: 0.9276 - age-out_accuracy: 0.0382 - val_loss: 8.5462 - val_sex-out_loss: 0.2714 - val_age-out_loss: 7.2720 - val_sex-out_accuracy: 0.8903 - val_age-out_accuracy: 0.0425\n",
      "Epoch 94/250\n",
      "278/278 [==============================] - ETA: 0s - loss: 5.9612 - sex-out_loss: 0.1715 - age-out_loss: 4.7850 - sex-out_accuracy: 0.9278 - age-out_accuracy: 0.0367\n",
      "Epoch 94: val_loss did not improve from 7.84052\n",
      "278/278 [==============================] - 497s 2s/step - loss: 5.9612 - sex-out_loss: 0.1715 - age-out_loss: 4.7850 - sex-out_accuracy: 0.9278 - age-out_accuracy: 0.0367 - val_loss: 8.9060 - val_sex-out_loss: 0.2659 - val_age-out_loss: 7.6336 - val_sex-out_accuracy: 0.8927 - val_age-out_accuracy: 0.0356\n",
      "Epoch 95/250\n",
      "278/278 [==============================] - ETA: 0s - loss: 5.8616 - sex-out_loss: 0.1786 - age-out_loss: 4.6759 - sex-out_accuracy: 0.9264 - age-out_accuracy: 0.0345\n",
      "Epoch 95: val_loss did not improve from 7.84052\n",
      "278/278 [==============================] - 436s 2s/step - loss: 5.8616 - sex-out_loss: 0.1786 - age-out_loss: 4.6759 - sex-out_accuracy: 0.9264 - age-out_accuracy: 0.0345 - val_loss: 8.7847 - val_sex-out_loss: 0.2786 - val_age-out_loss: 7.4982 - val_sex-out_accuracy: 0.8819 - val_age-out_accuracy: 0.0393\n",
      "Epoch 96/250\n",
      "278/278 [==============================] - ETA: 0s - loss: 5.8847 - sex-out_loss: 0.1712 - age-out_loss: 4.7047 - sex-out_accuracy: 0.9287 - age-out_accuracy: 0.0362\n",
      "Epoch 96: val_loss did not improve from 7.84052\n",
      "278/278 [==============================] - 543s 2s/step - loss: 5.8847 - sex-out_loss: 0.1712 - age-out_loss: 4.7047 - sex-out_accuracy: 0.9287 - age-out_accuracy: 0.0362 - val_loss: 8.2999 - val_sex-out_loss: 0.2742 - val_age-out_loss: 7.0162 - val_sex-out_accuracy: 0.8959 - val_age-out_accuracy: 0.0425\n",
      "Epoch 97/250\n",
      "278/278 [==============================] - ETA: 0s - loss: 5.9583 - sex-out_loss: 0.1722 - age-out_loss: 4.7753 - sex-out_accuracy: 0.9271 - age-out_accuracy: 0.0360\n",
      "Epoch 97: val_loss did not improve from 7.84052\n",
      "278/278 [==============================] - 556s 2s/step - loss: 5.9583 - sex-out_loss: 0.1722 - age-out_loss: 4.7753 - sex-out_accuracy: 0.9271 - age-out_accuracy: 0.0360 - val_loss: 7.9865 - val_sex-out_loss: 0.2748 - val_age-out_loss: 6.6996 - val_sex-out_accuracy: 0.8903 - val_age-out_accuracy: 0.0415\n",
      "Epoch 98/250\n",
      "278/278 [==============================] - ETA: 0s - loss: 5.9350 - sex-out_loss: 0.1828 - age-out_loss: 4.7392 - sex-out_accuracy: 0.9213 - age-out_accuracy: 0.0344\n",
      "Epoch 98: val_loss did not improve from 7.84052\n",
      "278/278 [==============================] - 534s 2s/step - loss: 5.9350 - sex-out_loss: 0.1828 - age-out_loss: 4.7392 - sex-out_accuracy: 0.9213 - age-out_accuracy: 0.0344 - val_loss: 8.4036 - val_sex-out_loss: 0.2737 - val_age-out_loss: 7.1164 - val_sex-out_accuracy: 0.8875 - val_age-out_accuracy: 0.0405\n",
      "Epoch 99/250\n",
      "278/278 [==============================] - ETA: 0s - loss: 5.9071 - sex-out_loss: 0.1694 - age-out_loss: 4.7226 - sex-out_accuracy: 0.9293 - age-out_accuracy: 0.0343\n",
      "Epoch 99: val_loss did not improve from 7.84052\n",
      "278/278 [==============================] - 482s 2s/step - loss: 5.9071 - sex-out_loss: 0.1694 - age-out_loss: 4.7226 - sex-out_accuracy: 0.9293 - age-out_accuracy: 0.0343 - val_loss: 8.0038 - val_sex-out_loss: 0.2966 - val_age-out_loss: 6.6910 - val_sex-out_accuracy: 0.8866 - val_age-out_accuracy: 0.0420\n",
      "Epoch 100/250\n",
      "278/278 [==============================] - ETA: 0s - loss: 5.8618 - sex-out_loss: 0.1728 - age-out_loss: 4.6720 - sex-out_accuracy: 0.9277 - age-out_accuracy: 0.0332\n",
      "Epoch 100: val_loss did not improve from 7.84052\n",
      "278/278 [==============================] - 531s 2s/step - loss: 5.8618 - sex-out_loss: 0.1728 - age-out_loss: 4.6720 - sex-out_accuracy: 0.9277 - age-out_accuracy: 0.0332 - val_loss: 8.0840 - val_sex-out_loss: 0.2632 - val_age-out_loss: 6.8039 - val_sex-out_accuracy: 0.8849 - val_age-out_accuracy: 0.0415\n",
      "Epoch 101/250\n",
      "278/278 [==============================] - ETA: 0s - loss: 5.9308 - sex-out_loss: 0.1756 - age-out_loss: 4.7379 - sex-out_accuracy: 0.9280 - age-out_accuracy: 0.0325\n",
      "Epoch 101: val_loss did not improve from 7.84052\n",
      "278/278 [==============================] - 515s 2s/step - loss: 5.9308 - sex-out_loss: 0.1756 - age-out_loss: 4.7379 - sex-out_accuracy: 0.9280 - age-out_accuracy: 0.0325 - val_loss: 8.7970 - val_sex-out_loss: 0.2787 - val_age-out_loss: 7.5004 - val_sex-out_accuracy: 0.8844 - val_age-out_accuracy: 0.0408\n",
      "Epoch 102/250\n",
      "278/278 [==============================] - ETA: 0s - loss: 5.8807 - sex-out_loss: 0.1678 - age-out_loss: 4.6937 - sex-out_accuracy: 0.9282 - age-out_accuracy: 0.0326\n",
      "Epoch 102: val_loss did not improve from 7.84052\n",
      "278/278 [==============================] - 569s 2s/step - loss: 5.8807 - sex-out_loss: 0.1678 - age-out_loss: 4.6937 - sex-out_accuracy: 0.9282 - age-out_accuracy: 0.0326 - val_loss: 9.2595 - val_sex-out_loss: 0.2795 - val_age-out_loss: 7.9593 - val_sex-out_accuracy: 0.8886 - val_age-out_accuracy: 0.0423\n",
      "Epoch 103/250\n",
      "278/278 [==============================] - ETA: 0s - loss: 5.8461 - sex-out_loss: 0.1670 - age-out_loss: 4.6582 - sex-out_accuracy: 0.9317 - age-out_accuracy: 0.0330\n",
      "Epoch 103: val_loss did not improve from 7.84052\n",
      "278/278 [==============================] - 424s 2s/step - loss: 5.8461 - sex-out_loss: 0.1670 - age-out_loss: 4.6582 - sex-out_accuracy: 0.9317 - age-out_accuracy: 0.0330 - val_loss: 8.5268 - val_sex-out_loss: 0.2717 - val_age-out_loss: 7.2341 - val_sex-out_accuracy: 0.8917 - val_age-out_accuracy: 0.0405\n",
      "Epoch 104/250\n",
      "278/278 [==============================] - ETA: 0s - loss: 5.9214 - sex-out_loss: 0.1694 - age-out_loss: 4.7298 - sex-out_accuracy: 0.9308 - age-out_accuracy: 0.0330\n",
      "Epoch 104: val_loss did not improve from 7.84052\n",
      "278/278 [==============================] - 374s 1s/step - loss: 5.9214 - sex-out_loss: 0.1694 - age-out_loss: 4.7298 - sex-out_accuracy: 0.9308 - age-out_accuracy: 0.0330 - val_loss: 8.1981 - val_sex-out_loss: 0.2599 - val_age-out_loss: 6.9153 - val_sex-out_accuracy: 0.8910 - val_age-out_accuracy: 0.0417\n",
      "Epoch 105/250\n",
      "278/278 [==============================] - ETA: 0s - loss: 5.8494 - sex-out_loss: 0.1685 - age-out_loss: 4.6573 - sex-out_accuracy: 0.9302 - age-out_accuracy: 0.0325\n",
      "Epoch 105: val_loss did not improve from 7.84052\n",
      "278/278 [==============================] - 379s 1s/step - loss: 5.8494 - sex-out_loss: 0.1685 - age-out_loss: 4.6573 - sex-out_accuracy: 0.9302 - age-out_accuracy: 0.0325 - val_loss: 8.2481 - val_sex-out_loss: 0.2796 - val_age-out_loss: 6.9441 - val_sex-out_accuracy: 0.8883 - val_age-out_accuracy: 0.0422\n",
      "Epoch 106/250\n",
      "278/278 [==============================] - ETA: 0s - loss: 5.8419 - sex-out_loss: 0.1694 - age-out_loss: 4.6473 - sex-out_accuracy: 0.9281 - age-out_accuracy: 0.0320\n",
      "Epoch 106: val_loss did not improve from 7.84052\n",
      "278/278 [==============================] - 376s 1s/step - loss: 5.8419 - sex-out_loss: 0.1694 - age-out_loss: 4.6473 - sex-out_accuracy: 0.9281 - age-out_accuracy: 0.0320 - val_loss: 8.4885 - val_sex-out_loss: 0.2751 - val_age-out_loss: 7.1878 - val_sex-out_accuracy: 0.8866 - val_age-out_accuracy: 0.0422\n",
      "Epoch 107/250\n",
      "278/278 [==============================] - ETA: 0s - loss: 5.8574 - sex-out_loss: 0.1645 - age-out_loss: 4.6674 - sex-out_accuracy: 0.9306 - age-out_accuracy: 0.0318\n",
      "Epoch 107: val_loss did not improve from 7.84052\n",
      "278/278 [==============================] - 422s 2s/step - loss: 5.8574 - sex-out_loss: 0.1645 - age-out_loss: 4.6674 - sex-out_accuracy: 0.9306 - age-out_accuracy: 0.0318 - val_loss: 8.2488 - val_sex-out_loss: 0.2717 - val_age-out_loss: 6.9499 - val_sex-out_accuracy: 0.8870 - val_age-out_accuracy: 0.0378\n",
      "Epoch 108/250\n",
      "278/278 [==============================] - ETA: 0s - loss: 5.8590 - sex-out_loss: 0.1713 - age-out_loss: 4.6600 - sex-out_accuracy: 0.9283 - age-out_accuracy: 0.0316\n",
      "Epoch 108: val_loss did not improve from 7.84052\n",
      "278/278 [==============================] - 520s 2s/step - loss: 5.8590 - sex-out_loss: 0.1713 - age-out_loss: 4.6600 - sex-out_accuracy: 0.9283 - age-out_accuracy: 0.0316 - val_loss: 8.2591 - val_sex-out_loss: 0.2581 - val_age-out_loss: 6.9722 - val_sex-out_accuracy: 0.8859 - val_age-out_accuracy: 0.0381\n",
      "Epoch 109/250\n",
      "278/278 [==============================] - ETA: 0s - loss: 5.8170 - sex-out_loss: 0.1636 - age-out_loss: 4.6241 - sex-out_accuracy: 0.9321 - age-out_accuracy: 0.0295\n",
      "Epoch 109: val_loss did not improve from 7.84052\n",
      "278/278 [==============================] - 444s 2s/step - loss: 5.8170 - sex-out_loss: 0.1636 - age-out_loss: 4.6241 - sex-out_accuracy: 0.9321 - age-out_accuracy: 0.0295 - val_loss: 8.5845 - val_sex-out_loss: 0.2829 - val_age-out_loss: 7.2715 - val_sex-out_accuracy: 0.8920 - val_age-out_accuracy: 0.0395\n",
      "Epoch 110/250\n",
      "278/278 [==============================] - ETA: 0s - loss: 5.8330 - sex-out_loss: 0.1657 - age-out_loss: 4.6366 - sex-out_accuracy: 0.9312 - age-out_accuracy: 0.0302\n",
      "Epoch 110: val_loss did not improve from 7.84052\n",
      "278/278 [==============================] - 376s 1s/step - loss: 5.8330 - sex-out_loss: 0.1657 - age-out_loss: 4.6366 - sex-out_accuracy: 0.9312 - age-out_accuracy: 0.0302 - val_loss: 8.2243 - val_sex-out_loss: 0.2867 - val_age-out_loss: 6.9060 - val_sex-out_accuracy: 0.8881 - val_age-out_accuracy: 0.0364\n",
      "Epoch 111/250\n",
      "278/278 [==============================] - ETA: 0s - loss: 5.8104 - sex-out_loss: 0.1619 - age-out_loss: 4.6162 - sex-out_accuracy: 0.9332 - age-out_accuracy: 0.0301\n",
      "Epoch 111: val_loss did not improve from 7.84052\n",
      "278/278 [==============================] - 414s 1s/step - loss: 5.8104 - sex-out_loss: 0.1619 - age-out_loss: 4.6162 - sex-out_accuracy: 0.9332 - age-out_accuracy: 0.0301 - val_loss: 8.0843 - val_sex-out_loss: 0.2660 - val_age-out_loss: 6.7858 - val_sex-out_accuracy: 0.8927 - val_age-out_accuracy: 0.0386\n",
      "Epoch 112/250\n",
      "278/278 [==============================] - ETA: 0s - loss: 5.8746 - sex-out_loss: 0.1715 - age-out_loss: 4.6704 - sex-out_accuracy: 0.9317 - age-out_accuracy: 0.0310\n",
      "Epoch 112: val_loss did not improve from 7.84052\n",
      "278/278 [==============================] - 376s 1s/step - loss: 5.8746 - sex-out_loss: 0.1715 - age-out_loss: 4.6704 - sex-out_accuracy: 0.9317 - age-out_accuracy: 0.0310 - val_loss: 8.6290 - val_sex-out_loss: 0.2590 - val_age-out_loss: 7.3366 - val_sex-out_accuracy: 0.8903 - val_age-out_accuracy: 0.0422\n",
      "Epoch 113/250\n",
      "278/278 [==============================] - ETA: 0s - loss: 5.8256 - sex-out_loss: 0.1707 - age-out_loss: 4.6208 - sex-out_accuracy: 0.9289 - age-out_accuracy: 0.0296\n",
      "Epoch 113: val_loss did not improve from 7.84052\n",
      "278/278 [==============================] - 375s 1s/step - loss: 5.8256 - sex-out_loss: 0.1707 - age-out_loss: 4.6208 - sex-out_accuracy: 0.9289 - age-out_accuracy: 0.0296 - val_loss: 8.6439 - val_sex-out_loss: 0.2662 - val_age-out_loss: 7.3427 - val_sex-out_accuracy: 0.8893 - val_age-out_accuracy: 0.0390\n",
      "Epoch 114/250\n",
      "278/278 [==============================] - ETA: 0s - loss: 5.8023 - sex-out_loss: 0.1652 - age-out_loss: 4.6013 - sex-out_accuracy: 0.9296 - age-out_accuracy: 0.0303\n",
      "Epoch 114: val_loss did not improve from 7.84052\n",
      "278/278 [==============================] - 532s 2s/step - loss: 5.8023 - sex-out_loss: 0.1652 - age-out_loss: 4.6013 - sex-out_accuracy: 0.9296 - age-out_accuracy: 0.0303 - val_loss: 9.3151 - val_sex-out_loss: 0.2816 - val_age-out_loss: 7.9968 - val_sex-out_accuracy: 0.8895 - val_age-out_accuracy: 0.0408\n",
      "Epoch 115/250\n",
      "278/278 [==============================] - ETA: 0s - loss: 5.8272 - sex-out_loss: 0.1655 - age-out_loss: 4.6239 - sex-out_accuracy: 0.9319 - age-out_accuracy: 0.0292\n",
      "Epoch 115: val_loss did not improve from 7.84052\n",
      "278/278 [==============================] - 549s 2s/step - loss: 5.8272 - sex-out_loss: 0.1655 - age-out_loss: 4.6239 - sex-out_accuracy: 0.9319 - age-out_accuracy: 0.0292 - val_loss: 8.3693 - val_sex-out_loss: 0.2653 - val_age-out_loss: 7.0663 - val_sex-out_accuracy: 0.8951 - val_age-out_accuracy: 0.0358\n",
      "Epoch 116/250\n",
      "278/278 [==============================] - ETA: 0s - loss: 5.7938 - sex-out_loss: 0.1700 - age-out_loss: 4.5859 - sex-out_accuracy: 0.9311 - age-out_accuracy: 0.0287\n",
      "Epoch 116: val_loss did not improve from 7.84052\n",
      "278/278 [==============================] - 484s 2s/step - loss: 5.7938 - sex-out_loss: 0.1700 - age-out_loss: 4.5859 - sex-out_accuracy: 0.9311 - age-out_accuracy: 0.0287 - val_loss: 8.0865 - val_sex-out_loss: 0.2711 - val_age-out_loss: 6.7764 - val_sex-out_accuracy: 0.8859 - val_age-out_accuracy: 0.0349\n",
      "Epoch 117/250\n",
      "278/278 [==============================] - ETA: 0s - loss: 5.7692 - sex-out_loss: 0.1643 - age-out_loss: 4.5656 - sex-out_accuracy: 0.9316 - age-out_accuracy: 0.0287\n",
      "Epoch 117: val_loss did not improve from 7.84052\n",
      "278/278 [==============================] - 436s 2s/step - loss: 5.7692 - sex-out_loss: 0.1643 - age-out_loss: 4.5656 - sex-out_accuracy: 0.9316 - age-out_accuracy: 0.0287 - val_loss: 8.5547 - val_sex-out_loss: 0.2739 - val_age-out_loss: 7.2402 - val_sex-out_accuracy: 0.8912 - val_age-out_accuracy: 0.0341\n",
      "Epoch 118/250\n",
      "278/278 [==============================] - ETA: 0s - loss: 5.7562 - sex-out_loss: 0.1653 - age-out_loss: 4.5493 - sex-out_accuracy: 0.9327 - age-out_accuracy: 0.0284\n",
      "Epoch 118: val_loss did not improve from 7.84052\n",
      "278/278 [==============================] - 560s 2s/step - loss: 5.7562 - sex-out_loss: 0.1653 - age-out_loss: 4.5493 - sex-out_accuracy: 0.9327 - age-out_accuracy: 0.0284 - val_loss: 8.2067 - val_sex-out_loss: 0.2727 - val_age-out_loss: 6.8917 - val_sex-out_accuracy: 0.8919 - val_age-out_accuracy: 0.0371\n",
      "Epoch 119/250\n",
      "278/278 [==============================] - ETA: 0s - loss: 5.8408 - sex-out_loss: 0.1647 - age-out_loss: 4.6331 - sex-out_accuracy: 0.9294 - age-out_accuracy: 0.0288\n",
      "Epoch 119: val_loss did not improve from 7.84052\n",
      "278/278 [==============================] - 575s 2s/step - loss: 5.8408 - sex-out_loss: 0.1647 - age-out_loss: 4.6331 - sex-out_accuracy: 0.9294 - age-out_accuracy: 0.0288 - val_loss: 8.1065 - val_sex-out_loss: 0.2655 - val_age-out_loss: 6.7980 - val_sex-out_accuracy: 0.8929 - val_age-out_accuracy: 0.0375\n",
      "Epoch 120/250\n",
      "278/278 [==============================] - ETA: 0s - loss: 5.7287 - sex-out_loss: 0.1619 - age-out_loss: 4.5231 - sex-out_accuracy: 0.9341 - age-out_accuracy: 0.0294\n",
      "Epoch 120: val_loss did not improve from 7.84052\n",
      "278/278 [==============================] - 707s 3s/step - loss: 5.7287 - sex-out_loss: 0.1619 - age-out_loss: 4.5231 - sex-out_accuracy: 0.9341 - age-out_accuracy: 0.0294 - val_loss: 8.1423 - val_sex-out_loss: 0.2715 - val_age-out_loss: 6.8260 - val_sex-out_accuracy: 0.8903 - val_age-out_accuracy: 0.0366\n",
      "Epoch 121/250\n",
      "278/278 [==============================] - ETA: 0s - loss: 5.8285 - sex-out_loss: 0.1629 - age-out_loss: 4.6199 - sex-out_accuracy: 0.9317 - age-out_accuracy: 0.0281\n",
      "Epoch 121: val_loss did not improve from 7.84052\n",
      "278/278 [==============================] - 547s 2s/step - loss: 5.8285 - sex-out_loss: 0.1629 - age-out_loss: 4.6199 - sex-out_accuracy: 0.9317 - age-out_accuracy: 0.0281 - val_loss: 8.0419 - val_sex-out_loss: 0.2591 - val_age-out_loss: 6.7363 - val_sex-out_accuracy: 0.8961 - val_age-out_accuracy: 0.0322\n",
      "Epoch 122/250\n",
      "278/278 [==============================] - ETA: 0s - loss: 5.8237 - sex-out_loss: 0.1604 - age-out_loss: 4.6152 - sex-out_accuracy: 0.9326 - age-out_accuracy: 0.0276\n",
      "Epoch 122: val_loss did not improve from 7.84052\n",
      "278/278 [==============================] - 514s 2s/step - loss: 5.8237 - sex-out_loss: 0.1604 - age-out_loss: 4.6152 - sex-out_accuracy: 0.9326 - age-out_accuracy: 0.0276 - val_loss: 8.8163 - val_sex-out_loss: 0.2682 - val_age-out_loss: 7.4980 - val_sex-out_accuracy: 0.8898 - val_age-out_accuracy: 0.0363\n",
      "Epoch 123/250\n",
      "278/278 [==============================] - ETA: 0s - loss: 5.7632 - sex-out_loss: 0.1625 - age-out_loss: 4.5502 - sex-out_accuracy: 0.9308 - age-out_accuracy: 0.0273\n",
      "Epoch 123: val_loss did not improve from 7.84052\n",
      "278/278 [==============================] - 492s 2s/step - loss: 5.7632 - sex-out_loss: 0.1625 - age-out_loss: 4.5502 - sex-out_accuracy: 0.9308 - age-out_accuracy: 0.0273 - val_loss: 8.1697 - val_sex-out_loss: 0.2591 - val_age-out_loss: 6.8604 - val_sex-out_accuracy: 0.8956 - val_age-out_accuracy: 0.0304\n",
      "Epoch 124/250\n",
      "278/278 [==============================] - ETA: 0s - loss: 5.8239 - sex-out_loss: 0.1664 - age-out_loss: 4.6057 - sex-out_accuracy: 0.9328 - age-out_accuracy: 0.0259\n",
      "Epoch 124: val_loss did not improve from 7.84052\n",
      "278/278 [==============================] - 553s 2s/step - loss: 5.8239 - sex-out_loss: 0.1664 - age-out_loss: 4.6057 - sex-out_accuracy: 0.9328 - age-out_accuracy: 0.0259 - val_loss: 8.4052 - val_sex-out_loss: 0.2789 - val_age-out_loss: 7.0725 - val_sex-out_accuracy: 0.8897 - val_age-out_accuracy: 0.0344\n",
      "Epoch 125/250\n",
      "278/278 [==============================] - ETA: 0s - loss: 5.7119 - sex-out_loss: 0.1624 - age-out_loss: 4.4954 - sex-out_accuracy: 0.9335 - age-out_accuracy: 0.0261\n",
      "Epoch 125: val_loss did not improve from 7.84052\n",
      "278/278 [==============================] - 530s 2s/step - loss: 5.7119 - sex-out_loss: 0.1624 - age-out_loss: 4.4954 - sex-out_accuracy: 0.9335 - age-out_accuracy: 0.0261 - val_loss: 8.8521 - val_sex-out_loss: 0.2587 - val_age-out_loss: 7.5392 - val_sex-out_accuracy: 0.8924 - val_age-out_accuracy: 0.0285\n",
      "Epoch 126/250\n",
      "278/278 [==============================] - ETA: 0s - loss: 5.7446 - sex-out_loss: 0.1616 - age-out_loss: 4.5280 - sex-out_accuracy: 0.9328 - age-out_accuracy: 0.0256\n",
      "Epoch 126: val_loss did not improve from 7.84052\n",
      "278/278 [==============================] - 599s 2s/step - loss: 5.7446 - sex-out_loss: 0.1616 - age-out_loss: 4.5280 - sex-out_accuracy: 0.9328 - age-out_accuracy: 0.0256 - val_loss: 8.5397 - val_sex-out_loss: 0.2821 - val_age-out_loss: 7.2018 - val_sex-out_accuracy: 0.8875 - val_age-out_accuracy: 0.0349\n",
      "Epoch 127/250\n",
      "278/278 [==============================] - ETA: 0s - loss: 5.7184 - sex-out_loss: 0.1656 - age-out_loss: 4.4974 - sex-out_accuracy: 0.9302 - age-out_accuracy: 0.0258\n",
      "Epoch 127: val_loss did not improve from 7.84052\n",
      "278/278 [==============================] - 590s 2s/step - loss: 5.7184 - sex-out_loss: 0.1656 - age-out_loss: 4.4974 - sex-out_accuracy: 0.9302 - age-out_accuracy: 0.0258 - val_loss: 8.0506 - val_sex-out_loss: 0.2829 - val_age-out_loss: 6.7124 - val_sex-out_accuracy: 0.8895 - val_age-out_accuracy: 0.0189\n",
      "Epoch 128/250\n",
      "278/278 [==============================] - ETA: 0s - loss: 5.7698 - sex-out_loss: 0.1717 - age-out_loss: 4.5414 - sex-out_accuracy: 0.9276 - age-out_accuracy: 0.0245\n",
      "Epoch 128: val_loss did not improve from 7.84052\n",
      "278/278 [==============================] - 550s 2s/step - loss: 5.7698 - sex-out_loss: 0.1717 - age-out_loss: 4.5414 - sex-out_accuracy: 0.9276 - age-out_accuracy: 0.0245 - val_loss: 7.8526 - val_sex-out_loss: 0.2655 - val_age-out_loss: 6.5295 - val_sex-out_accuracy: 0.8880 - val_age-out_accuracy: 0.0267\n",
      "Epoch 129/250\n",
      "278/278 [==============================] - ETA: 0s - loss: 5.7298 - sex-out_loss: 0.1585 - age-out_loss: 4.5138 - sex-out_accuracy: 0.9331 - age-out_accuracy: 0.0235\n",
      "Epoch 129: val_loss did not improve from 7.84052\n",
      "278/278 [==============================] - 601s 2s/step - loss: 5.7298 - sex-out_loss: 0.1585 - age-out_loss: 4.5138 - sex-out_accuracy: 0.9331 - age-out_accuracy: 0.0235 - val_loss: 8.0710 - val_sex-out_loss: 0.2758 - val_age-out_loss: 6.7380 - val_sex-out_accuracy: 0.8885 - val_age-out_accuracy: 0.0341\n",
      "Epoch 130/250\n",
      "278/278 [==============================] - ETA: 0s - loss: 5.6832 - sex-out_loss: 0.1591 - age-out_loss: 4.4675 - sex-out_accuracy: 0.9330 - age-out_accuracy: 0.0239\n",
      "Epoch 130: val_loss did not improve from 7.84052\n",
      "278/278 [==============================] - 418s 2s/step - loss: 5.6832 - sex-out_loss: 0.1591 - age-out_loss: 4.4675 - sex-out_accuracy: 0.9330 - age-out_accuracy: 0.0239 - val_loss: 8.1694 - val_sex-out_loss: 0.2894 - val_age-out_loss: 6.8233 - val_sex-out_accuracy: 0.8859 - val_age-out_accuracy: 0.0366\n",
      "Epoch 131/250\n",
      "278/278 [==============================] - ETA: 0s - loss: 5.6916 - sex-out_loss: 0.1614 - age-out_loss: 4.4737 - sex-out_accuracy: 0.9325 - age-out_accuracy: 0.0252\n",
      "Epoch 131: val_loss did not improve from 7.84052\n",
      "278/278 [==============================] - 450s 2s/step - loss: 5.6916 - sex-out_loss: 0.1614 - age-out_loss: 4.4737 - sex-out_accuracy: 0.9325 - age-out_accuracy: 0.0252 - val_loss: 8.2654 - val_sex-out_loss: 0.2651 - val_age-out_loss: 6.9441 - val_sex-out_accuracy: 0.8924 - val_age-out_accuracy: 0.0324\n",
      "Epoch 132/250\n",
      "278/278 [==============================] - ETA: 0s - loss: 5.7251 - sex-out_loss: 0.1590 - age-out_loss: 4.5083 - sex-out_accuracy: 0.9322 - age-out_accuracy: 0.0257\n",
      "Epoch 132: val_loss did not improve from 7.84052\n",
      "278/278 [==============================] - 410s 1s/step - loss: 5.7251 - sex-out_loss: 0.1590 - age-out_loss: 4.5083 - sex-out_accuracy: 0.9322 - age-out_accuracy: 0.0257 - val_loss: 8.2836 - val_sex-out_loss: 0.2777 - val_age-out_loss: 6.9481 - val_sex-out_accuracy: 0.8876 - val_age-out_accuracy: 0.0305\n",
      "Epoch 133/250\n",
      "278/278 [==============================] - ETA: 0s - loss: 5.7409 - sex-out_loss: 0.1603 - age-out_loss: 4.5228 - sex-out_accuracy: 0.9334 - age-out_accuracy: 0.0249\n",
      "Epoch 133: val_loss did not improve from 7.84052\n",
      "278/278 [==============================] - 373s 1s/step - loss: 5.7409 - sex-out_loss: 0.1603 - age-out_loss: 4.5228 - sex-out_accuracy: 0.9334 - age-out_accuracy: 0.0249 - val_loss: 8.5485 - val_sex-out_loss: 0.2847 - val_age-out_loss: 7.2056 - val_sex-out_accuracy: 0.8856 - val_age-out_accuracy: 0.0375\n",
      "Epoch 134/250\n",
      "278/278 [==============================] - ETA: 0s - loss: 5.6542 - sex-out_loss: 0.1576 - age-out_loss: 4.4385 - sex-out_accuracy: 0.9336 - age-out_accuracy: 0.0252\n",
      "Epoch 134: val_loss did not improve from 7.84052\n",
      "278/278 [==============================] - 373s 1s/step - loss: 5.6542 - sex-out_loss: 0.1576 - age-out_loss: 4.4385 - sex-out_accuracy: 0.9336 - age-out_accuracy: 0.0252 - val_loss: 8.1545 - val_sex-out_loss: 0.2717 - val_age-out_loss: 6.8244 - val_sex-out_accuracy: 0.8913 - val_age-out_accuracy: 0.0337\n",
      "Epoch 135/250\n",
      "278/278 [==============================] - ETA: 0s - loss: 5.6919 - sex-out_loss: 0.1622 - age-out_loss: 4.4714 - sex-out_accuracy: 0.9308 - age-out_accuracy: 0.0249 \n",
      "Epoch 135: val_loss did not improve from 7.84052\n",
      "278/278 [==============================] - 15630s 56s/step - loss: 5.6919 - sex-out_loss: 0.1622 - age-out_loss: 4.4714 - sex-out_accuracy: 0.9308 - age-out_accuracy: 0.0249 - val_loss: 8.9617 - val_sex-out_loss: 0.2878 - val_age-out_loss: 7.6155 - val_sex-out_accuracy: 0.8898 - val_age-out_accuracy: 0.0280\n",
      "Epoch 136/250\n",
      "278/278 [==============================] - ETA: 0s - loss: 5.6740 - sex-out_loss: 0.1632 - age-out_loss: 4.4514 - sex-out_accuracy: 0.9284 - age-out_accuracy: 0.0238\n",
      "Epoch 136: val_loss did not improve from 7.84052\n",
      "278/278 [==============================] - 459s 2s/step - loss: 5.6740 - sex-out_loss: 0.1632 - age-out_loss: 4.4514 - sex-out_accuracy: 0.9284 - age-out_accuracy: 0.0238 - val_loss: 7.8831 - val_sex-out_loss: 0.2858 - val_age-out_loss: 6.5368 - val_sex-out_accuracy: 0.8881 - val_age-out_accuracy: 0.0326\n",
      "Epoch 137/250\n",
      "278/278 [==============================] - ETA: 0s - loss: 5.6359 - sex-out_loss: 0.1689 - age-out_loss: 4.4062 - sex-out_accuracy: 0.9299 - age-out_accuracy: 0.0250\n",
      "Epoch 137: val_loss did not improve from 7.84052\n",
      "278/278 [==============================] - 377s 1s/step - loss: 5.6359 - sex-out_loss: 0.1689 - age-out_loss: 4.4062 - sex-out_accuracy: 0.9299 - age-out_accuracy: 0.0250 - val_loss: 7.9557 - val_sex-out_loss: 0.3091 - val_age-out_loss: 6.5856 - val_sex-out_accuracy: 0.8876 - val_age-out_accuracy: 0.0307\n",
      "Epoch 138/250\n",
      "278/278 [==============================] - ETA: 0s - loss: 5.7156 - sex-out_loss: 0.1597 - age-out_loss: 4.4950 - sex-out_accuracy: 0.9318 - age-out_accuracy: 0.0231\n",
      "Epoch 138: val_loss did not improve from 7.84052\n",
      "278/278 [==============================] - 369s 1s/step - loss: 5.7156 - sex-out_loss: 0.1597 - age-out_loss: 4.4950 - sex-out_accuracy: 0.9318 - age-out_accuracy: 0.0231 - val_loss: 8.6717 - val_sex-out_loss: 0.2685 - val_age-out_loss: 7.3417 - val_sex-out_accuracy: 0.8892 - val_age-out_accuracy: 0.0292\n",
      "Epoch 139/250\n",
      "278/278 [==============================] - ETA: 0s - loss: 5.6820 - sex-out_loss: 0.1600 - age-out_loss: 4.4606 - sex-out_accuracy: 0.9326 - age-out_accuracy: 0.0221\n",
      "Epoch 139: val_loss did not improve from 7.84052\n",
      "278/278 [==============================] - 371s 1s/step - loss: 5.6820 - sex-out_loss: 0.1600 - age-out_loss: 4.4606 - sex-out_accuracy: 0.9326 - age-out_accuracy: 0.0221 - val_loss: 7.8937 - val_sex-out_loss: 0.2770 - val_age-out_loss: 6.5541 - val_sex-out_accuracy: 0.8930 - val_age-out_accuracy: 0.0310\n",
      "Epoch 140/250\n",
      "278/278 [==============================] - ETA: 0s - loss: 5.6992 - sex-out_loss: 0.1673 - age-out_loss: 4.4689 - sex-out_accuracy: 0.9293 - age-out_accuracy: 0.0222  \n",
      "Epoch 140: val_loss did not improve from 7.84052\n",
      "278/278 [==============================] - 17500s 63s/step - loss: 5.6992 - sex-out_loss: 0.1673 - age-out_loss: 4.4689 - sex-out_accuracy: 0.9293 - age-out_accuracy: 0.0222 - val_loss: 7.9845 - val_sex-out_loss: 0.2698 - val_age-out_loss: 6.6502 - val_sex-out_accuracy: 0.8912 - val_age-out_accuracy: 0.0378\n",
      "Epoch 141/250\n",
      "278/278 [==============================] - ETA: 0s - loss: 5.6508 - sex-out_loss: 0.1590 - age-out_loss: 4.4278 - sex-out_accuracy: 0.9339 - age-out_accuracy: 0.0238\n",
      "Epoch 141: val_loss did not improve from 7.84052\n",
      "278/278 [==============================] - 455s 2s/step - loss: 5.6508 - sex-out_loss: 0.1590 - age-out_loss: 4.4278 - sex-out_accuracy: 0.9339 - age-out_accuracy: 0.0238 - val_loss: 7.8593 - val_sex-out_loss: 0.2718 - val_age-out_loss: 6.5235 - val_sex-out_accuracy: 0.8920 - val_age-out_accuracy: 0.0243\n",
      "Epoch 142/250\n",
      "278/278 [==============================] - ETA: 0s - loss: 5.6392 - sex-out_loss: 0.1623 - age-out_loss: 4.4130 - sex-out_accuracy: 0.9318 - age-out_accuracy: 0.0235\n",
      "Epoch 142: val_loss did not improve from 7.84052\n",
      "278/278 [==============================] - 373s 1s/step - loss: 5.6392 - sex-out_loss: 0.1623 - age-out_loss: 4.4130 - sex-out_accuracy: 0.9318 - age-out_accuracy: 0.0235 - val_loss: 8.1904 - val_sex-out_loss: 0.2646 - val_age-out_loss: 6.8613 - val_sex-out_accuracy: 0.8892 - val_age-out_accuracy: 0.0277\n",
      "Epoch 143/250\n",
      "278/278 [==============================] - ETA: 0s - loss: 5.6476 - sex-out_loss: 0.1620 - age-out_loss: 4.4212 - sex-out_accuracy: 0.9325 - age-out_accuracy: 0.0218\n",
      "Epoch 143: val_loss did not improve from 7.84052\n",
      "278/278 [==============================] - 374s 1s/step - loss: 5.6476 - sex-out_loss: 0.1620 - age-out_loss: 4.4212 - sex-out_accuracy: 0.9325 - age-out_accuracy: 0.0218 - val_loss: 8.1135 - val_sex-out_loss: 0.2874 - val_age-out_loss: 6.7607 - val_sex-out_accuracy: 0.8881 - val_age-out_accuracy: 0.0307\n",
      "Epoch 144/250\n",
      "278/278 [==============================] - ETA: 0s - loss: 5.6968 - sex-out_loss: 0.1608 - age-out_loss: 4.4697 - sex-out_accuracy: 0.9308 - age-out_accuracy: 0.0228\n",
      "Epoch 144: val_loss did not improve from 7.84052\n",
      "278/278 [==============================] - 374s 1s/step - loss: 5.6968 - sex-out_loss: 0.1608 - age-out_loss: 4.4697 - sex-out_accuracy: 0.9308 - age-out_accuracy: 0.0228 - val_loss: 7.9331 - val_sex-out_loss: 0.2908 - val_age-out_loss: 6.5753 - val_sex-out_accuracy: 0.8922 - val_age-out_accuracy: 0.0290\n",
      "Epoch 145/250\n",
      "278/278 [==============================] - ETA: 0s - loss: 5.6824 - sex-out_loss: 0.1634 - age-out_loss: 4.4513 - sex-out_accuracy: 0.9321 - age-out_accuracy: 0.0219\n",
      "Epoch 145: val_loss did not improve from 7.84052\n",
      "278/278 [==============================] - 452s 2s/step - loss: 5.6824 - sex-out_loss: 0.1634 - age-out_loss: 4.4513 - sex-out_accuracy: 0.9321 - age-out_accuracy: 0.0219 - val_loss: 8.2202 - val_sex-out_loss: 0.3166 - val_age-out_loss: 6.8352 - val_sex-out_accuracy: 0.8809 - val_age-out_accuracy: 0.0240\n"
     ]
    }
   ],
   "source": [
    "History = Model.fit(X_train, Y_train_2, batch_size=64, validation_data=(X_test, Y_test_2), epochs=250, callbacks=callback_list) "
   ]
  },
  {
   "cell_type": "markdown",
   "metadata": {},
   "source": [
    "## Model Evaluation"
   ]
  },
  {
   "cell_type": "code",
   "execution_count": 74,
   "metadata": {},
   "outputs": [
    {
     "name": "stdout",
     "output_type": "stream",
     "text": [
      "186/186 [==============================] - 58s 305ms/step - loss: 7.8405 - sex-out_loss: 0.2660 - age-out_loss: 6.6381 - sex-out_accuracy: 0.8861 - age-out_accuracy: 0.0425\n"
     ]
    },
    {
     "data": {
      "text/plain": [
       "[7.840517997741699,\n",
       " 0.26601675152778625,\n",
       " 6.638084411621094,\n",
       " 0.8861144185066223,\n",
       " 0.042517293244600296]"
      ]
     },
     "execution_count": 74,
     "metadata": {},
     "output_type": "execute_result"
    }
   ],
   "source": [
    "Model.evaluate(X_test, Y_test_2)"
   ]
  },
  {
   "cell_type": "code",
   "execution_count": 75,
   "metadata": {},
   "outputs": [],
   "source": [
    "pred = Model.predict(X_test)"
   ]
  },
  {
   "cell_type": "code",
   "execution_count": 76,
   "metadata": {},
   "outputs": [
    {
     "data": {
      "text/plain": [
       "array([[24.291103],\n",
       "       [27.783867],\n",
       "       [52.77204 ],\n",
       "       ...,\n",
       "       [61.77655 ],\n",
       "       [36.27146 ],\n",
       "       [56.851173]], dtype=float32)"
      ]
     },
     "execution_count": 76,
     "metadata": {},
     "output_type": "execute_result"
    }
   ],
   "source": [
    "pred[1]"
   ]
  },
  {
   "cell_type": "markdown",
   "metadata": {},
   "source": [
    "## Plotting Loss"
   ]
  },
  {
   "cell_type": "code",
   "execution_count": 78,
   "metadata": {},
   "outputs": [
    {
     "data": {
      "image/png": "[encoded data removed]",
      "text/plain": [
       "<Figure size 432x288 with 1 Axes>"
      ]
     },
     "metadata": {
      "needs_background": "light"
     },
     "output_type": "display_data"
    }
   ],
   "source": [
    "plt.plot(History.history['loss'])\n",
    "plt.plot(History.history['val_loss'])\n",
    "plt.title('Model Loss')\n",
    "plt.xlabel = ('Epoch')\n",
    "plt.ylabel = ('Loss')\n",
    "plt.legend(['Train', 'Validation'], loc = 'upper left')\n",
    "plt.subplots_adjust(top = 1.0, bottom = 0.0, right = 0.95, left = 0, hspace = 0.25, wspace = 0.35)"
   ]
  },
  {
   "cell_type": "markdown",
   "metadata": {},
   "source": [
    "## Plotting Sex Accuracy"
   ]
  },
  {
   "cell_type": "code",
   "execution_count": 80,
   "metadata": {},
   "outputs": [
    {
     "data": {
      "image/png": "[encoded data removed]",
      "text/plain": [
       "<Figure size 432x288 with 1 Axes>"
      ]
     },
     "metadata": {
      "needs_background": "light"
     },
     "output_type": "display_data"
    }
   ],
   "source": [
    "plt.plot(History.history['sex-out_accuracy'])\n",
    "plt.plot(History.history['val_sex-out_accuracy'])\n",
    "plt.title('Model Accuracy')\n",
    "plt.xlabel = ('Epoch')\n",
    "plt.ylabel = ('Accuracy')\n",
    "plt.legend(['Train', 'Validation'], loc = 'upper left')\n",
    "plt.subplots_adjust(top = 1.0, bottom = 0.0, right = 0.95, left = 0, hspace = 0.25, wspace = 0.35)"
   ]
  },
  {
   "cell_type": "markdown",
   "metadata": {},
   "source": [
    "## Plotting Age Accuracy"
   ]
  },
  {
   "cell_type": "code",
   "execution_count": 83,
   "metadata": {},
   "outputs": [
    {
     "data": {
      "image/png": "[encoded data removed]",
      "text/plain": [
       "<Figure size 432x288 with 1 Axes>"
      ]
     },
     "metadata": {
      "needs_background": "light"
     },
     "output_type": "display_data"
    }
   ],
   "source": [
    "fig,ax = plt.subplots()\n",
    "ax.scatter(Y_test_2[1], pred[1])\n",
    "ax.plot([Y_test_2[1].min(), Y_test_2[1].max()], [Y_test_2[1].min(), Y_test_2[1].max()], 'k--',lw = 4)\n",
    "ax.set_xlabel('Actual Age')\n",
    "ax.set_ylabel('Predicted Age')\n",
    "plt.show()"
   ]
  },
  {
   "cell_type": "markdown",
   "metadata": {},
   "source": [
    "## Making Report of the Model(Gender Only)"
   ]
  },
  {
   "cell_type": "code",
   "execution_count": 84,
   "metadata": {},
   "outputs": [],
   "source": [
    "i = 0\n",
    "Pred_l = []\n",
    "while i < len(pred[0]):\n",
    "    Pred_l.append(int(np.round(pred[0][i])))\n",
    "    i += 1"
   ]
  },
  {
   "cell_type": "code",
   "execution_count": 85,
   "metadata": {},
   "outputs": [],
   "source": [
    "from sklearn.metrics import confusion_matrix, classification_report"
   ]
  },
  {
   "cell_type": "code",
   "execution_count": 86,
   "metadata": {},
   "outputs": [],
   "source": [
    "report = classification_report(Y_test_2[0], Pred_l)"
   ]
  },
  {
   "cell_type": "code",
   "execution_count": 87,
   "metadata": {},
   "outputs": [
    {
     "name": "stdout",
     "output_type": "stream",
     "text": [
      "              precision    recall  f1-score   support\n",
      "\n",
      "           0       0.89      0.88      0.89      3053\n",
      "           1       0.88      0.89      0.88      2874\n",
      "\n",
      "    accuracy                           0.89      5927\n",
      "   macro avg       0.89      0.89      0.89      5927\n",
      "weighted avg       0.89      0.89      0.89      5927\n",
      "\n"
     ]
    }
   ],
   "source": [
    "print(report)"
   ]
  },
  {
   "cell_type": "markdown",
   "metadata": {},
   "source": [
    "## Making HeatMap of the Model(Gender Only)"
   ]
  },
  {
   "cell_type": "code",
   "execution_count": 88,
   "metadata": {},
   "outputs": [],
   "source": [
    "results = confusion_matrix(Y_test_2[0], Pred_l)"
   ]
  },
  {
   "cell_type": "code",
   "execution_count": 89,
   "metadata": {},
   "outputs": [
    {
     "data": {
      "text/plain": [
       "<AxesSubplot:>"
      ]
     },
     "execution_count": 89,
     "metadata": {},
     "output_type": "execute_result"
    },
    {
     "data": {
      "image/png": "[encoded data removed]",
      "text/plain": [
       "<Figure size 432x288 with 2 Axes>"
      ]
     },
     "metadata": {
      "needs_background": "light"
     },
     "output_type": "display_data"
    }
   ],
   "source": [
    "import seaborn as sns\n",
    "sns.heatmap(results, annot = True)"
   ]
  },
  {
   "cell_type": "markdown",
   "metadata": {},
   "source": [
    "## Testing the images by ourself"
   ]
  },
  {
   "cell_type": "code",
   "execution_count": 90,
   "metadata": {},
   "outputs": [],
   "source": [
    "def test_image(ind, images_f, images_f_2, Model):\n",
    "    plt.imshow(images_f[ind])\n",
    "    image_test = images_f_2[ind]\n",
    "    pred_l = Model.predict(np.array([image_test]))\n",
    "    sex_f = ['Male', 'Female']\n",
    "    age = int(np.round(pred_l[1][0]))\n",
    "    sex = int(np.round(pred_l[0][0]))\n",
    "    print(\"Predicted Age is \" + str(age))\n",
    "    print(\"Predicted Gender is \" + sex_f[sex])"
   ]
  },
  {
   "cell_type": "markdown",
   "metadata": {},
   "source": [
    "## Test #1"
   ]
  },
  {
   "cell_type": "code",
   "execution_count": 91,
   "metadata": {},
   "outputs": [
    {
     "name": "stdout",
     "output_type": "stream",
     "text": [
      "Predicted Age is 84\n",
      "Predicted Gender is Female\n"
     ]
    },
    {
     "data": {
      "image/png": "[encoded data removed]",
      "text/plain": [
       "<Figure size 432x288 with 1 Axes>"
      ]
     },
     "metadata": {
      "needs_background": "light"
     },
     "output_type": "display_data"
    }
   ],
   "source": [
    "test_image(4, images_f, images_f_2, Model)"
   ]
  },
  {
   "cell_type": "markdown",
   "metadata": {},
   "source": [
    "## Test #2"
   ]
  },
  {
   "cell_type": "code",
   "execution_count": 92,
   "metadata": {},
   "outputs": [
    {
     "name": "stdout",
     "output_type": "stream",
     "text": [
      "Predicted Age is 8\n",
      "Predicted Gender is Male\n"
     ]
    },
    {
     "data": {
      "image/png": "[encoded data removed]",
      "text/plain": [
       "<Figure size 432x288 with 1 Axes>"
      ]
     },
     "metadata": {
      "needs_background": "light"
     },
     "output_type": "display_data"
    }
   ],
   "source": [
    "test_image(23, images_f, images_f_2, Model)"
   ]
  },
  {
   "cell_type": "markdown",
   "metadata": {},
   "source": [
    "## Test #3"
   ]
  },
  {
   "cell_type": "code",
   "execution_count": 93,
   "metadata": {},
   "outputs": [
    {
     "name": "stdout",
     "output_type": "stream",
     "text": [
      "Predicted Age is 9\n",
      "Predicted Gender is Female\n"
     ]
    },
    {
     "data": {
      "image/png": "[encoded data removed]",
      "text/plain": [
       "<Figure size 432x288 with 1 Axes>"
      ]
     },
     "metadata": {
      "needs_background": "light"
     },
     "output_type": "display_data"
    }
   ],
   "source": [
    "test_image(168, images_f, images_f_2, Model)"
   ]
  },
  {
   "cell_type": "markdown",
   "metadata": {},
   "source": [
    "## Test #4"
   ]
  },
  {
   "cell_type": "code",
   "execution_count": 95,
   "metadata": {},
   "outputs": [
    {
     "name": "stdout",
     "output_type": "stream",
     "text": [
      "Predicted Age is 14\n",
      "Predicted Gender is Male\n"
     ]
    },
    {
     "data": {
      "image/png": "[encoded data removed]",
      "text/plain": [
       "<Figure size 432x288 with 1 Axes>"
      ]
     },
     "metadata": {
      "needs_background": "light"
     },
     "output_type": "display_data"
    }
   ],
   "source": [
    "test_image(888, images_f, images_f_2, Model)"
   ]
  },
  {
   "cell_type": "markdown",
   "metadata": {},
   "source": [
    "## Test #5"
   ]
  },
  {
   "cell_type": "code",
   "execution_count": 96,
   "metadata": {},
   "outputs": [
    {
     "name": "stdout",
     "output_type": "stream",
     "text": [
      "Predicted Age is 21\n",
      "Predicted Gender is Female\n"
     ]
    },
    {
     "data": {
      "image/png": "[encoded data removed]",
      "text/plain": [
       "<Figure size 432x288 with 1 Axes>"
      ]
     },
     "metadata": {
      "needs_background": "light"
     },
     "output_type": "display_data"
    }
   ],
   "source": [
    "test_image(1288, images_f, images_f_2, Model)"
   ]
  }
 ],
 "metadata": {
  "interpreter": {
   "hash": "2be5faf79681da6f2a61fdfdd5405d65d042280f7fba6178067603e3a2925119"
  },
  "kernelspec": {
   "display_name": "Python 3.10.2 64-bit",
   "language": "python",
   "name": "python3"
  },
  "language_info": {
   "codemirror_mode": {
    "name": "ipython",
    "version": 3
   },
   "file_extension": ".py",
   "mimetype": "text/x-python",
   "name": "python",
   "nbconvert_exporter": "python",
   "pygments_lexer": "ipython3",
   "version": "3.9.7"
  },
  "orig_nbformat": 4
 },
 "nbformat": 4,
 "nbformat_minor": 2
}
